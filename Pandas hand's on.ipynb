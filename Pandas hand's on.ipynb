{
 "cells": [
  {
   "cell_type": "markdown",
   "id": "f4e8a649",
   "metadata": {},
   "source": [
    "# Pandas hand's  on"
   ]
  },
  {
   "cell_type": "code",
   "execution_count": 1,
   "id": "98cc0f8f",
   "metadata": {},
   "outputs": [],
   "source": [
    "import pandas as pd"
   ]
  },
  {
   "cell_type": "markdown",
   "id": "56e483b9",
   "metadata": {},
   "source": [
    "Problem Statement:\n",
    "Large datasets need to be structured and free of outliers in order to be used for further analysis\n",
    "and model building in cases of supervised or unsupervised learning. Python pandas is one such\n",
    "python package that deals with manipulation of data with various operations. Use the modules\n",
    "and processes available in the python pandas module to come up with useful insights about the\n",
    "data"
   ]
  },
  {
   "cell_type": "markdown",
   "id": "91f17f82",
   "metadata": {},
   "source": [
    "# Tasks To be Performed:"
   ]
  },
  {
   "cell_type": "markdown",
   "id": "da3d74a3",
   "metadata": {},
   "source": [
    "1. Given a sample list, tuple and a set with elements as numbers from 1-10. Convert each\n",
    "of the data types into a pandas series. Create a separate list of index values for the\n",
    "series.\n"
   ]
  },
  {
   "cell_type": "code",
   "execution_count": 2,
   "id": "aa0e97f2",
   "metadata": {},
   "outputs": [],
   "source": [
    "llist = [1,2,3,4,5,6,7,8,9,10]\n",
    "ttuple = (1,2,3,4,5,6,7,8,9,10)\n",
    "sets = {1,2,3,4,5,6,7,8,9,10}"
   ]
  },
  {
   "cell_type": "code",
   "execution_count": 3,
   "id": "d4cdd016",
   "metadata": {},
   "outputs": [
    {
     "name": "stdout",
     "output_type": "stream",
     "text": [
      "a     1\n",
      "b     2\n",
      "c     3\n",
      "d     4\n",
      "e     5\n",
      "f     6\n",
      "g     7\n",
      "h     8\n",
      "i     9\n",
      "j    10\n",
      "dtype: int64\n",
      "a     1\n",
      "b     2\n",
      "c     3\n",
      "d     4\n",
      "e     5\n",
      "f     6\n",
      "g     7\n",
      "h     8\n",
      "i     9\n",
      "j    10\n",
      "dtype: int64\n",
      "a     1\n",
      "b     2\n",
      "c     3\n",
      "d     4\n",
      "e     5\n",
      "f     6\n",
      "g     7\n",
      "h     8\n",
      "i     9\n",
      "j    10\n",
      "dtype: int64\n"
     ]
    }
   ],
   "source": [
    "x = ['a','b','c','d','e','f','g','h','i','j']\n",
    "series_list = pd.Series(llist, index=x)\n",
    "series_tuple = pd.Series(ttuple, index=x)\n",
    "series_sets = pd.Series(list(sets), index=x)\n",
    "print(series_list)\n",
    "print(series_tuple)\n",
    "print(series_sets)"
   ]
  },
  {
   "cell_type": "code",
   "execution_count": 5,
   "id": "2b065a0d",
   "metadata": {},
   "outputs": [
    {
     "data": {
      "text/plain": [
       "([1, 2, 3, 4, 5, 6, 7, 8, 9, 10],\n",
       " (1, 2, 3, 4, 5, 6, 7, 8, 9, 10),\n",
       " {1, 2, 3, 4, 5, 6, 7, 8, 9, 10})"
      ]
     },
     "execution_count": 5,
     "metadata": {},
     "output_type": "execute_result"
    }
   ],
   "source": [
    "l_new = list(range(1,11))\n",
    "t_new = tuple(range(1,11))\n",
    "s_new = set(range(1,11))\n",
    "l_new, t_new, s_new"
   ]
  },
  {
   "cell_type": "code",
   "execution_count": 9,
   "id": "8350c738",
   "metadata": {},
   "outputs": [
    {
     "data": {
      "text/plain": [
       "set"
      ]
     },
     "execution_count": 9,
     "metadata": {},
     "output_type": "execute_result"
    }
   ],
   "source": [
    "type(s_new)"
   ]
  },
  {
   "cell_type": "markdown",
   "id": "e6531c80",
   "metadata": {},
   "source": [
    "2. Create a python dictionary with three key value pairs. Keep the keys as the first names,\n",
    "and the respective last names as values in the dictionary. Use the dictionary to create a\n",
    "pandas series.\n"
   ]
  },
  {
   "cell_type": "code",
   "execution_count": 13,
   "id": "404d0774",
   "metadata": {},
   "outputs": [
    {
     "name": "stdout",
     "output_type": "stream",
     "text": [
      "Serie from dictionary: Raju        Sharma\n",
      "Rahul        Verma\n",
      "Kamal    Choudhary\n",
      "Ravi          Jain\n",
      "dtype: object\n"
     ]
    }
   ],
   "source": [
    "# Dictionary with key-value pairs\n",
    "n_dict = {\"Raju\":\"Sharma\",\"Rahul\":\"Verma\",\"Kamal\":\"Choudhary\",\"Ravi\":\"Jain\"}\n",
    "\n",
    "# Create a pandas series\n",
    "name_series = pd.Series(n_dict)\n",
    "\n",
    "print(\"Serie from dictionary:\", name_series)"
   ]
  },
  {
   "cell_type": "markdown",
   "id": "e9978097",
   "metadata": {},
   "source": [
    "3. Create a pandas series, with the elements as numbers from 1-10. Use the index values\n",
    "starting from 0-10. For the above series:\n",
    "a. Convert it to a list.\n",
    "b. Convert it to a dictionary.\n",
    "c. Convert it to a tuple.\n",
    "d. Convert it to a set.\n"
   ]
  },
  {
   "cell_type": "code",
   "execution_count": 12,
   "id": "fe8d54f9",
   "metadata": {},
   "outputs": [
    {
     "name": "stdout",
     "output_type": "stream",
     "text": [
      "0     1\n",
      "1     2\n",
      "2     3\n",
      "3     4\n",
      "4     5\n",
      "5     6\n",
      "6     7\n",
      "7     8\n",
      "8     9\n",
      "9    10\n",
      "dtype: int64\n"
     ]
    }
   ],
   "source": [
    "# Series with numbers and index values\n",
    "s = pd.Series(range(1, 11), index=list(range(0, 10)))\n",
    "print(s)"
   ]
  },
  {
   "cell_type": "code",
   "execution_count": 13,
   "id": "a6fe9ba4",
   "metadata": {},
   "outputs": [
    {
     "name": "stdout",
     "output_type": "stream",
     "text": [
      "Series list: [1, 2, 3, 4, 5, 6, 7, 8, 9, 10]\n",
      "Series dictionary: {0: 1, 1: 2, 2: 3, 3: 4, 4: 5, 5: 6, 6: 7, 7: 8, 8: 9, 9: 10}\n",
      "Series tuple: (1, 2, 3, 4, 5, 6, 7, 8, 9, 10)\n",
      "Series set: {1, 2, 3, 4, 5, 6, 7, 8, 9, 10}\n"
     ]
    }
   ],
   "source": [
    "# Convert series to different data types\n",
    "new_list = s.tolist()\n",
    "new_dict = s.to_dict()\n",
    "new_tuple = tuple(s)\n",
    "new_set = set(s)\n",
    "\n",
    "print(\"Series list:\", new_list)\n",
    "print(\"Series dictionary:\", new_dict)\n",
    "print(\"Series tuple:\", new_tuple)\n",
    "print(\"Series set:\", new_set)"
   ]
  },
  {
   "cell_type": "markdown",
   "id": "5290cd26",
   "metadata": {},
   "source": [
    "4. Create a sample pandas series with x integer elements. Perform the following operations\n",
    "on the same:\n",
    "a. Print the first 5 elements of the series\n",
    "b. Print the last 5 elements of the series\n",
    "c. Insert an integer value ‘50’ at the index 5.\n",
    "d. Update the last element in the series with the value 100.\n",
    "e. Delete the first element from the series.\n",
    "\n"
   ]
  },
  {
   "cell_type": "markdown",
   "id": "328cb111",
   "metadata": {},
   "source": [
    "Note: The index values must not be affected by the operations and should be uniform for\n",
    "the series after the last operation."
   ]
  },
  {
   "cell_type": "code",
   "execution_count": 20,
   "id": "04350a56",
   "metadata": {},
   "outputs": [
    {
     "name": "stdout",
     "output_type": "stream",
     "text": [
      "0     1\n",
      "1     2\n",
      "2     3\n",
      "3     4\n",
      "4     5\n",
      "5     6\n",
      "6     7\n",
      "7     8\n",
      "8     9\n",
      "9    10\n",
      "dtype: int64\n"
     ]
    }
   ],
   "source": [
    "# Sample series with integer elements\n",
    "s = pd.Series(range(1, 11))\n",
    "print(s)\n"
   ]
  },
  {
   "cell_type": "code",
   "execution_count": 26,
   "id": "dadcadba",
   "metadata": {},
   "outputs": [
    {
     "name": "stdout",
     "output_type": "stream",
     "text": [
      "0    1\n",
      "1    2\n",
      "2    3\n",
      "3    4\n",
      "4    5\n",
      "dtype: int64\n"
     ]
    }
   ],
   "source": [
    "# Print first 5 elements\n",
    "print(s.head())"
   ]
  },
  {
   "cell_type": "code",
   "execution_count": 15,
   "id": "d2eef933",
   "metadata": {},
   "outputs": [
    {
     "name": "stdout",
     "output_type": "stream",
     "text": [
      "5     6\n",
      "6     7\n",
      "7     8\n",
      "8     9\n",
      "9    10\n",
      "dtype: int64\n"
     ]
    }
   ],
   "source": [
    " # Print last 5 elements\n",
    "print(s.tail())"
   ]
  },
  {
   "cell_type": "code",
   "execution_count": 27,
   "id": "eb69718a",
   "metadata": {},
   "outputs": [
    {
     "name": "stdout",
     "output_type": "stream",
     "text": [
      "0     1\n",
      "1     2\n",
      "2     3\n",
      "3     4\n",
      "4     5\n",
      "5    50\n",
      "6     7\n",
      "7     8\n",
      "8     9\n",
      "9    10\n",
      "dtype: int64\n"
     ]
    }
   ],
   "source": [
    "# Insert value at specific index\n",
    "s[5] = 50\n",
    "\n",
    "print(s)"
   ]
  },
  {
   "cell_type": "code",
   "execution_count": 32,
   "id": "14754fb3",
   "metadata": {},
   "outputs": [
    {
     "data": {
      "text/plain": [
       " 0       1\n",
       " 1       2\n",
       " 2       3\n",
       " 3       4\n",
       " 4       5\n",
       " 5      50\n",
       " 6       7\n",
       " 7       8\n",
       " 8       9\n",
       " 9      10\n",
       "-1     100\n",
       " 10    100\n",
       " 11    100\n",
       "dtype: int64"
      ]
     },
     "execution_count": 32,
     "metadata": {},
     "output_type": "execute_result"
    }
   ],
   "source": [
    "# ##Update last element\n",
    "\n",
    "\n",
    "# s[-1] = 100\n",
    "# print(s)\n",
    "\n",
    "s[len(s)-1] = 100\n",
    "s"
   ]
  },
  {
   "cell_type": "code",
   "execution_count": 36,
   "id": "122f2796",
   "metadata": {},
   "outputs": [
    {
     "name": "stdout",
     "output_type": "stream",
     "text": [
      " 1       2\n",
      " 2       3\n",
      " 3       4\n",
      " 4       5\n",
      " 5      50\n",
      " 6       7\n",
      " 7       8\n",
      " 8       9\n",
      " 9      10\n",
      "-1     100\n",
      " 10    100\n",
      " 11    100\n",
      "dtype: int64\n"
     ]
    }
   ],
   "source": [
    "# Delete first element\n",
    "\n",
    "#(a)\n",
    "#s.drop(0, inplace=True)\n",
    "\n",
    "\n",
    "print(s)\n",
    "\n",
    "#(b)\n",
    "#s = s[1:]\n",
    "#print(s)"
   ]
  },
  {
   "cell_type": "code",
   "execution_count": 37,
   "id": "eddf6791",
   "metadata": {},
   "outputs": [
    {
     "name": "stdout",
     "output_type": "stream",
     "text": [
      " 1       2\n",
      " 2       3\n",
      " 3       4\n",
      " 4       5\n",
      " 5      50\n",
      " 6       7\n",
      " 7       8\n",
      " 8       9\n",
      " 9      10\n",
      "-1     100\n",
      " 10    100\n",
      " 11    100\n",
      "dtype: int64\n"
     ]
    }
   ],
   "source": [
    "#final Series\n",
    "print(s)"
   ]
  },
  {
   "cell_type": "markdown",
   "id": "b6384115",
   "metadata": {},
   "source": [
    "5. For a given pandas series obtained in the 4th step. Write a sample code to find the\n",
    "element 100 in the series.\n"
   ]
  },
  {
   "cell_type": "code",
   "execution_count": 41,
   "id": "4736f77d",
   "metadata": {},
   "outputs": [
    {
     "name": "stdout",
     "output_type": "stream",
     "text": [
      "Element 100 exists: False\n"
     ]
    },
    {
     "data": {
      "text/plain": [
       "False"
      ]
     },
     "execution_count": 41,
     "metadata": {},
     "output_type": "execute_result"
    }
   ],
   "source": [
    "# Check if element exists\n",
    "print(\"Element 100 exists:\", 100 in s)\n"
   ]
  },
  {
   "cell_type": "code",
   "execution_count": 49,
   "id": "0594774b",
   "metadata": {},
   "outputs": [
    {
     "name": "stdout",
     "output_type": "stream",
     "text": [
      "True\n",
      "True\n",
      "True\n"
     ]
    }
   ],
   "source": [
    "for i in s:\n",
    "    if i == 100:\n",
    "        print(\"True\")\n"
   ]
  },
  {
   "cell_type": "code",
   "execution_count": 50,
   "id": "a10509d1",
   "metadata": {},
   "outputs": [
    {
     "name": "stdout",
     "output_type": "stream",
     "text": [
      "False\n",
      "False\n",
      "False\n",
      "False\n",
      "False\n",
      "False\n",
      "False\n",
      "False\n",
      "False\n",
      "True\n",
      "True\n",
      "True\n"
     ]
    }
   ],
   "source": [
    "for i in s:\n",
    "    if i == 100:\n",
    "        print(\"True\")\n",
    "    else:\n",
    "        print(\"False\")"
   ]
  },
  {
   "cell_type": "markdown",
   "id": "11e039d8",
   "metadata": {},
   "source": [
    "6. For the given series A and B, perform concatenation on the same.\n",
    "series_A = pd.Series([1,2,3,4,5])\n",
    "series_B = pd.Series([6,7,8,9,10])\n"
   ]
  },
  {
   "cell_type": "code",
   "execution_count": 51,
   "id": "21ab5fa6",
   "metadata": {},
   "outputs": [
    {
     "name": "stdout",
     "output_type": "stream",
     "text": [
      "Combined series: 0     1\n",
      "1     2\n",
      "2     3\n",
      "3     4\n",
      "4     5\n",
      "0     6\n",
      "1     7\n",
      "2     8\n",
      "3     9\n",
      "4    10\n",
      "dtype: int64\n"
     ]
    }
   ],
   "source": [
    "series_A = pd.Series([1, 2, 3, 4, 5])\n",
    "series_B = pd.Series([6, 7, 8, 9, 10])\n",
    "\n",
    "combined_series = pd.concat([series_A, series_B])\n",
    "print(\"Combined series:\",combined_series)\n"
   ]
  },
  {
   "cell_type": "markdown",
   "id": "9a5923dd",
   "metadata": {},
   "source": [
    "7. Using loops in python, print all the elements within a pandas series.\n",
    "Sample = pd.Series([1,2,3,4,5,6,7,8,9,10])\n"
   ]
  },
  {
   "cell_type": "code",
   "execution_count": 53,
   "id": "0d4441d4",
   "metadata": {},
   "outputs": [],
   "source": [
    "Sample = pd.Series([1,2,3,4,5,6,7,8,9,10])"
   ]
  },
  {
   "cell_type": "code",
   "execution_count": 54,
   "id": "40697e68",
   "metadata": {},
   "outputs": [
    {
     "name": "stdout",
     "output_type": "stream",
     "text": [
      "1\n",
      "2\n",
      "3\n",
      "4\n",
      "5\n",
      "6\n",
      "7\n",
      "8\n",
      "9\n",
      "10\n"
     ]
    }
   ],
   "source": [
    "for i in Sample:\n",
    "    print(i)"
   ]
  },
  {
   "cell_type": "markdown",
   "id": "8d6f9a6b",
   "metadata": {},
   "source": [
    "8. For a given nested list and a sample dictionary, create two data frames using pandas.\n",
    "\n",
    "\n",
    "\n",
    "List = [['AA','BB','CC'], ['DD','EE','FF'], ['GG','HH','II']]\n",
    "\n",
    "\n",
    "\n",
    "\n",
    "Dictionary = { 'Kris': ['Jordan', 12,22],'Memphis': ['Depay', 23, 24]}"
   ]
  },
  {
   "cell_type": "code",
   "execution_count": 55,
   "id": "e15454d8",
   "metadata": {},
   "outputs": [
    {
     "name": "stdout",
     "output_type": "stream",
     "text": [
      "    0   1   2\n",
      "0  AA  BB  CC\n",
      "1  DD  EE  FF\n",
      "2  GG  HH  II\n",
      "     Kris Memphis\n",
      "0  Jordan   Depay\n",
      "1      12      23\n",
      "2      22      24\n"
     ]
    }
   ],
   "source": [
    "List = [['AA','BB','CC'], ['DD','EE','FF'], ['GG','HH','II']]\n",
    "\n",
    "Dictionary = { 'Kris': ['Jordan', 12,22],'Memphis': ['Depay', 23, 24]}\n",
    "\n",
    "df1 = pd.DataFrame(List)\n",
    "df2 = pd.DataFrame(Dictionary)\n",
    "\n",
    "print(df1)\n",
    "print(df2)"
   ]
  },
  {
   "cell_type": "markdown",
   "id": "89477e53",
   "metadata": {},
   "source": [
    "9. Create a pandas Dataframe with two columns = [‘Name’, ‘Age’]. Perform the following operations on the same.\n",
    "\n",
    "\n",
    "a. Print the first 3 rows of the Data Frame .\n",
    "b. Print the rows that have the age greater than 15.\n",
    "c. Insert 5 imaginary names and ages as values to the pandas Data Frame .\n",
    "d. Update the 5th row so that the name = john and age=56.\n",
    "e. Delete the first row from the Data Frame .\n"
   ]
  },
  {
   "cell_type": "code",
   "execution_count": 2,
   "id": "0fd7d50f",
   "metadata": {},
   "outputs": [
    {
     "data": {
      "text/html": [
       "<div>\n",
       "<style scoped>\n",
       "    .dataframe tbody tr th:only-of-type {\n",
       "        vertical-align: middle;\n",
       "    }\n",
       "\n",
       "    .dataframe tbody tr th {\n",
       "        vertical-align: top;\n",
       "    }\n",
       "\n",
       "    .dataframe thead th {\n",
       "        text-align: right;\n",
       "    }\n",
       "</style>\n",
       "<table border=\"1\" class=\"dataframe\">\n",
       "  <thead>\n",
       "    <tr style=\"text-align: right;\">\n",
       "      <th></th>\n",
       "      <th>Name</th>\n",
       "      <th>Age</th>\n",
       "    </tr>\n",
       "  </thead>\n",
       "  <tbody>\n",
       "    <tr>\n",
       "      <th>0</th>\n",
       "      <td>Rahul</td>\n",
       "      <td>16</td>\n",
       "    </tr>\n",
       "    <tr>\n",
       "      <th>1</th>\n",
       "      <td>vicky</td>\n",
       "      <td>12</td>\n",
       "    </tr>\n",
       "    <tr>\n",
       "      <th>2</th>\n",
       "      <td>Navven</td>\n",
       "      <td>10</td>\n",
       "    </tr>\n",
       "    <tr>\n",
       "      <th>3</th>\n",
       "      <td>Raj</td>\n",
       "      <td>20</td>\n",
       "    </tr>\n",
       "  </tbody>\n",
       "</table>\n",
       "</div>"
      ],
      "text/plain": [
       "     Name  Age\n",
       "0   Rahul   16\n",
       "1   vicky   12\n",
       "2  Navven   10\n",
       "3     Raj   20"
      ]
     },
     "execution_count": 2,
     "metadata": {},
     "output_type": "execute_result"
    }
   ],
   "source": [
    "# Create dataframe with two columns\n",
    "data = {'Name': ['Rahul', 'vicky', 'Navven', 'Raj'], 'Age': [16, 12, 10, 20]}\n",
    "df = pd.DataFrame(data)\n",
    "(df)\n",
    "\n",
    "\n",
    "\n",
    "# # Insert new rows\n",
    "# imaginary_names = ['David', 'Emma', 'Frank', 'George', 'Hannah']\n",
    "# imaginary_ages = [14, 22, 35, 28, 19]\n",
    "\n",
    "# df = df.append(pd.DataFrame({'Name': imaginary_names, 'Age': imaginary_ages}), ignore_index=True)\n",
    "\n",
    "\n",
    "\n",
    "# # Delete first row\n",
    "# df = df.drop(index=0)\n",
    "\n",
    "# print(\"Modified dataframe:\")\n",
    "# print(df)\n"
   ]
  },
  {
   "cell_type": "code",
   "execution_count": 3,
   "id": "3a43d074",
   "metadata": {},
   "outputs": [
    {
     "data": {
      "text/html": [
       "<div>\n",
       "<style scoped>\n",
       "    .dataframe tbody tr th:only-of-type {\n",
       "        vertical-align: middle;\n",
       "    }\n",
       "\n",
       "    .dataframe tbody tr th {\n",
       "        vertical-align: top;\n",
       "    }\n",
       "\n",
       "    .dataframe thead th {\n",
       "        text-align: right;\n",
       "    }\n",
       "</style>\n",
       "<table border=\"1\" class=\"dataframe\">\n",
       "  <thead>\n",
       "    <tr style=\"text-align: right;\">\n",
       "      <th></th>\n",
       "      <th>Name</th>\n",
       "      <th>Age</th>\n",
       "    </tr>\n",
       "  </thead>\n",
       "  <tbody>\n",
       "    <tr>\n",
       "      <th>0</th>\n",
       "      <td>Rahul</td>\n",
       "      <td>16</td>\n",
       "    </tr>\n",
       "    <tr>\n",
       "      <th>1</th>\n",
       "      <td>vicky</td>\n",
       "      <td>12</td>\n",
       "    </tr>\n",
       "    <tr>\n",
       "      <th>2</th>\n",
       "      <td>Navven</td>\n",
       "      <td>10</td>\n",
       "    </tr>\n",
       "  </tbody>\n",
       "</table>\n",
       "</div>"
      ],
      "text/plain": [
       "     Name  Age\n",
       "0   Rahul   16\n",
       "1   vicky   12\n",
       "2  Navven   10"
      ]
     },
     "execution_count": 3,
     "metadata": {},
     "output_type": "execute_result"
    }
   ],
   "source": [
    "# A. Print first 3 rows\n",
    "df.head(3)"
   ]
  },
  {
   "cell_type": "code",
   "execution_count": 4,
   "id": "32d4a746",
   "metadata": {},
   "outputs": [
    {
     "data": {
      "text/html": [
       "<div>\n",
       "<style scoped>\n",
       "    .dataframe tbody tr th:only-of-type {\n",
       "        vertical-align: middle;\n",
       "    }\n",
       "\n",
       "    .dataframe tbody tr th {\n",
       "        vertical-align: top;\n",
       "    }\n",
       "\n",
       "    .dataframe thead th {\n",
       "        text-align: right;\n",
       "    }\n",
       "</style>\n",
       "<table border=\"1\" class=\"dataframe\">\n",
       "  <thead>\n",
       "    <tr style=\"text-align: right;\">\n",
       "      <th></th>\n",
       "      <th>Name</th>\n",
       "      <th>Age</th>\n",
       "    </tr>\n",
       "  </thead>\n",
       "  <tbody>\n",
       "    <tr>\n",
       "      <th>0</th>\n",
       "      <td>Rahul</td>\n",
       "      <td>16</td>\n",
       "    </tr>\n",
       "    <tr>\n",
       "      <th>3</th>\n",
       "      <td>Raj</td>\n",
       "      <td>20</td>\n",
       "    </tr>\n",
       "  </tbody>\n",
       "</table>\n",
       "</div>"
      ],
      "text/plain": [
       "    Name  Age\n",
       "0  Rahul   16\n",
       "3    Raj   20"
      ]
     },
     "execution_count": 4,
     "metadata": {},
     "output_type": "execute_result"
    }
   ],
   "source": [
    "# Print rows with age > 15\n",
    "\n",
    "(df[df['Age'] > 15])\n"
   ]
  },
  {
   "cell_type": "code",
   "execution_count": 5,
   "id": "42a1f140",
   "metadata": {},
   "outputs": [],
   "source": [
    "#  Update 5th row \n",
    "\n",
    "df.at[4,'Name'] = 'John'\n",
    "df.at[4,'Age'] = 56\n"
   ]
  },
  {
   "cell_type": "code",
   "execution_count": 6,
   "id": "31bf886b",
   "metadata": {},
   "outputs": [
    {
     "data": {
      "text/html": [
       "<div>\n",
       "<style scoped>\n",
       "    .dataframe tbody tr th:only-of-type {\n",
       "        vertical-align: middle;\n",
       "    }\n",
       "\n",
       "    .dataframe tbody tr th {\n",
       "        vertical-align: top;\n",
       "    }\n",
       "\n",
       "    .dataframe thead th {\n",
       "        text-align: right;\n",
       "    }\n",
       "</style>\n",
       "<table border=\"1\" class=\"dataframe\">\n",
       "  <thead>\n",
       "    <tr style=\"text-align: right;\">\n",
       "      <th></th>\n",
       "      <th>Name</th>\n",
       "      <th>Age</th>\n",
       "    </tr>\n",
       "  </thead>\n",
       "  <tbody>\n",
       "    <tr>\n",
       "      <th>0</th>\n",
       "      <td>Rahul</td>\n",
       "      <td>16.0</td>\n",
       "    </tr>\n",
       "    <tr>\n",
       "      <th>1</th>\n",
       "      <td>vicky</td>\n",
       "      <td>12.0</td>\n",
       "    </tr>\n",
       "    <tr>\n",
       "      <th>2</th>\n",
       "      <td>Navven</td>\n",
       "      <td>10.0</td>\n",
       "    </tr>\n",
       "    <tr>\n",
       "      <th>3</th>\n",
       "      <td>Raj</td>\n",
       "      <td>20.0</td>\n",
       "    </tr>\n",
       "    <tr>\n",
       "      <th>4</th>\n",
       "      <td>John</td>\n",
       "      <td>56.0</td>\n",
       "    </tr>\n",
       "  </tbody>\n",
       "</table>\n",
       "</div>"
      ],
      "text/plain": [
       "     Name   Age\n",
       "0   Rahul  16.0\n",
       "1   vicky  12.0\n",
       "2  Navven  10.0\n",
       "3     Raj  20.0\n",
       "4    John  56.0"
      ]
     },
     "execution_count": 6,
     "metadata": {},
     "output_type": "execute_result"
    }
   ],
   "source": [
    "df"
   ]
  },
  {
   "cell_type": "code",
   "execution_count": 7,
   "id": "fee47a17",
   "metadata": {},
   "outputs": [
    {
     "data": {
      "text/html": [
       "<div>\n",
       "<style scoped>\n",
       "    .dataframe tbody tr th:only-of-type {\n",
       "        vertical-align: middle;\n",
       "    }\n",
       "\n",
       "    .dataframe tbody tr th {\n",
       "        vertical-align: top;\n",
       "    }\n",
       "\n",
       "    .dataframe thead th {\n",
       "        text-align: right;\n",
       "    }\n",
       "</style>\n",
       "<table border=\"1\" class=\"dataframe\">\n",
       "  <thead>\n",
       "    <tr style=\"text-align: right;\">\n",
       "      <th></th>\n",
       "      <th>Name</th>\n",
       "      <th>Age</th>\n",
       "    </tr>\n",
       "  </thead>\n",
       "  <tbody>\n",
       "    <tr>\n",
       "      <th>1</th>\n",
       "      <td>vicky</td>\n",
       "      <td>12.0</td>\n",
       "    </tr>\n",
       "    <tr>\n",
       "      <th>2</th>\n",
       "      <td>Navven</td>\n",
       "      <td>10.0</td>\n",
       "    </tr>\n",
       "    <tr>\n",
       "      <th>3</th>\n",
       "      <td>Raj</td>\n",
       "      <td>20.0</td>\n",
       "    </tr>\n",
       "    <tr>\n",
       "      <th>4</th>\n",
       "      <td>John</td>\n",
       "      <td>56.0</td>\n",
       "    </tr>\n",
       "  </tbody>\n",
       "</table>\n",
       "</div>"
      ],
      "text/plain": [
       "     Name   Age\n",
       "1   vicky  12.0\n",
       "2  Navven  10.0\n",
       "3     Raj  20.0\n",
       "4    John  56.0"
      ]
     },
     "execution_count": 7,
     "metadata": {},
     "output_type": "execute_result"
    }
   ],
   "source": [
    "# Delete first row\n",
    "\n",
    "df = df.drop(0)\n",
    "df"
   ]
  },
  {
   "cell_type": "markdown",
   "id": "e3c4c5bb",
   "metadata": {},
   "source": [
    "10. For the Data Frame obtained from step 9, convert the same to a list and a dictionary\n",
    "respectively.\n",
    "\n"
   ]
  },
  {
   "cell_type": "code",
   "execution_count": 8,
   "id": "761d732c",
   "metadata": {},
   "outputs": [
    {
     "name": "stdout",
     "output_type": "stream",
     "text": [
      "Data list: [['vicky', 12.0], ['Navven', 10.0], ['Raj', 20.0], ['John', 56.0]]\n",
      "Data dictionary: [{'Name': 'vicky', 'Age': 12.0}, {'Name': 'Navven', 'Age': 10.0}, {'Name': 'Raj', 'Age': 20.0}, {'Name': 'John', 'Age': 56.0}]\n"
     ]
    }
   ],
   "source": [
    "# Convert dataframe to list\n",
    "data_list = df.values.tolist()\n",
    "\n",
    "# Convert dataframe to dictionary\n",
    "data_dict = df.to_dict(orient='records')\n",
    "\n",
    "print(\"Data list:\", data_list)\n",
    "print(\"Data dictionary:\", data_dict)\n"
   ]
  },
  {
   "cell_type": "markdown",
   "id": "390780ea",
   "metadata": {},
   "source": [
    "11. Create two separate Data Frames A and B, and perform the following operations on them. \n",
    "\n",
    "a. Concatenate the two Data Frame s to a new Data Frame C. \n",
    "\n",
    "b. Split the Data Frame C row wise. \n",
    "\n",
    "c. Split the Data Frame column wise based on a condition.example - columns values greater than 10, column values less than 10, etc."
   ]
  },
  {
   "cell_type": "code",
   "execution_count": 10,
   "id": "424c1565",
   "metadata": {},
   "outputs": [],
   "source": [
    "\n",
    "# print(\"Concatenated dataframe:\", df_c)\n",
    "# print(\"Split dataframe:\", df_list)\n",
    "# print(\"Dataframe with age > 10:\", df_gt_10)\n",
    "# print(\"Dataframe with age <= 10:\", df_lt_10)\n",
    "                                    "
   ]
  },
  {
   "cell_type": "code",
   "execution_count": 11,
   "id": "8ac50037",
   "metadata": {},
   "outputs": [],
   "source": [
    "# create two dataframe A and B\n",
    "\n",
    "df_a = pd.DataFrame({'Name': ['Yash', 'Max', 'Raj', 'Vicky'], 'Age': [25, 30, 20, 22]})\n",
    "df_b = pd.DataFrame({'Name': ['Pinky', 'Shimi', 'Payal', 'Sonu'], 'Age': [18, 23, 35, 26]})\n"
   ]
  },
  {
   "cell_type": "code",
   "execution_count": 14,
   "id": "6a79dc0b",
   "metadata": {},
   "outputs": [
    {
     "data": {
      "text/html": [
       "<div>\n",
       "<style scoped>\n",
       "    .dataframe tbody tr th:only-of-type {\n",
       "        vertical-align: middle;\n",
       "    }\n",
       "\n",
       "    .dataframe tbody tr th {\n",
       "        vertical-align: top;\n",
       "    }\n",
       "\n",
       "    .dataframe thead th {\n",
       "        text-align: right;\n",
       "    }\n",
       "</style>\n",
       "<table border=\"1\" class=\"dataframe\">\n",
       "  <thead>\n",
       "    <tr style=\"text-align: right;\">\n",
       "      <th></th>\n",
       "      <th>Name</th>\n",
       "      <th>Age</th>\n",
       "    </tr>\n",
       "  </thead>\n",
       "  <tbody>\n",
       "    <tr>\n",
       "      <th>0</th>\n",
       "      <td>Yash</td>\n",
       "      <td>25</td>\n",
       "    </tr>\n",
       "    <tr>\n",
       "      <th>1</th>\n",
       "      <td>Max</td>\n",
       "      <td>30</td>\n",
       "    </tr>\n",
       "    <tr>\n",
       "      <th>2</th>\n",
       "      <td>Raj</td>\n",
       "      <td>20</td>\n",
       "    </tr>\n",
       "    <tr>\n",
       "      <th>3</th>\n",
       "      <td>Vicky</td>\n",
       "      <td>22</td>\n",
       "    </tr>\n",
       "    <tr>\n",
       "      <th>0</th>\n",
       "      <td>Pinky</td>\n",
       "      <td>18</td>\n",
       "    </tr>\n",
       "    <tr>\n",
       "      <th>1</th>\n",
       "      <td>Shimi</td>\n",
       "      <td>23</td>\n",
       "    </tr>\n",
       "    <tr>\n",
       "      <th>2</th>\n",
       "      <td>Payal</td>\n",
       "      <td>35</td>\n",
       "    </tr>\n",
       "    <tr>\n",
       "      <th>3</th>\n",
       "      <td>Sonu</td>\n",
       "      <td>26</td>\n",
       "    </tr>\n",
       "  </tbody>\n",
       "</table>\n",
       "</div>"
      ],
      "text/plain": [
       "    Name  Age\n",
       "0   Yash   25\n",
       "1    Max   30\n",
       "2    Raj   20\n",
       "3  Vicky   22\n",
       "0  Pinky   18\n",
       "1  Shimi   23\n",
       "2  Payal   35\n",
       "3   Sonu   26"
      ]
     },
     "execution_count": 14,
     "metadata": {},
     "output_type": "execute_result"
    }
   ],
   "source": [
    "# concatenate Dataframe\n",
    "df_c = pd.concat([df_a, df_b])\n",
    "df_c"
   ]
  },
  {
   "cell_type": "code",
   "execution_count": 16,
   "id": "c500e0e5",
   "metadata": {},
   "outputs": [
    {
     "data": {
      "text/plain": [
       "[['Yash', 25],\n",
       " ['Max', 30],\n",
       " ['Raj', 20],\n",
       " ['Vicky', 22],\n",
       " ['Pinky', 18],\n",
       " ['Shimi', 23],\n",
       " ['Payal', 35],\n",
       " ['Sonu', 26]]"
      ]
     },
     "execution_count": 16,
     "metadata": {},
     "output_type": "execute_result"
    }
   ],
   "source": [
    "# # Split DataFrames row wise\n",
    "\n",
    "df_list = df_c.to_numpy().tolist()\n",
    "df_list\n"
   ]
  },
  {
   "cell_type": "code",
   "execution_count": 17,
   "id": "5c66e1c6",
   "metadata": {},
   "outputs": [],
   "source": [
    "# # Split DataFrames column wise\n",
    "\n",
    "df_gt = df_c[df_c['Age'] > 10]\n",
    "df_lt = df_c[df_c['Age'] <= 10]"
   ]
  },
  {
   "cell_type": "code",
   "execution_count": 19,
   "id": "f6c84be9",
   "metadata": {},
   "outputs": [
    {
     "name": "stdout",
     "output_type": "stream",
     "text": [
      "    Name  Age\n",
      "0   Yash   25\n",
      "1    Max   30\n",
      "2    Raj   20\n",
      "3  Vicky   22\n",
      "0  Pinky   18\n",
      "1  Shimi   23\n",
      "2  Payal   35\n",
      "3   Sonu   26\n"
     ]
    }
   ],
   "source": [
    "print(df_gt)\n"
   ]
  },
  {
   "cell_type": "code",
   "execution_count": 20,
   "id": "bda499b4",
   "metadata": {},
   "outputs": [
    {
     "name": "stdout",
     "output_type": "stream",
     "text": [
      "Empty DataFrame\n",
      "Columns: [Name, Age]\n",
      "Index: []\n"
     ]
    }
   ],
   "source": [
    "print(df_lt)"
   ]
  },
  {
   "cell_type": "markdown",
   "id": "0c48ac7f",
   "metadata": {},
   "source": [
    "12. Create a Data Frame with columns Name and Age. Perform the following operations. \n",
    "\n",
    "a. Write a sample code to search for the Name/Names where Age is 20. \n",
    "\n",
    "b. Sort the Data Frame in ascending order of ages. \n",
    "\n",
    "c. Using Python loops, print the ages from the data frame and store it in a set"
   ]
  },
  {
   "cell_type": "code",
   "execution_count": 21,
   "id": "b4d3de21",
   "metadata": {},
   "outputs": [
    {
     "data": {
      "text/html": [
       "<div>\n",
       "<style scoped>\n",
       "    .dataframe tbody tr th:only-of-type {\n",
       "        vertical-align: middle;\n",
       "    }\n",
       "\n",
       "    .dataframe tbody tr th {\n",
       "        vertical-align: top;\n",
       "    }\n",
       "\n",
       "    .dataframe thead th {\n",
       "        text-align: right;\n",
       "    }\n",
       "</style>\n",
       "<table border=\"1\" class=\"dataframe\">\n",
       "  <thead>\n",
       "    <tr style=\"text-align: right;\">\n",
       "      <th></th>\n",
       "      <th>Name</th>\n",
       "      <th>Age</th>\n",
       "    </tr>\n",
       "  </thead>\n",
       "  <tbody>\n",
       "    <tr>\n",
       "      <th>0</th>\n",
       "      <td>Yash</td>\n",
       "      <td>25</td>\n",
       "    </tr>\n",
       "    <tr>\n",
       "      <th>1</th>\n",
       "      <td>Max</td>\n",
       "      <td>30</td>\n",
       "    </tr>\n",
       "    <tr>\n",
       "      <th>2</th>\n",
       "      <td>Raj</td>\n",
       "      <td>20</td>\n",
       "    </tr>\n",
       "    <tr>\n",
       "      <th>3</th>\n",
       "      <td>Vicky</td>\n",
       "      <td>22</td>\n",
       "    </tr>\n",
       "    <tr>\n",
       "      <th>0</th>\n",
       "      <td>Pinky</td>\n",
       "      <td>18</td>\n",
       "    </tr>\n",
       "    <tr>\n",
       "      <th>1</th>\n",
       "      <td>Shimi</td>\n",
       "      <td>23</td>\n",
       "    </tr>\n",
       "    <tr>\n",
       "      <th>2</th>\n",
       "      <td>Payal</td>\n",
       "      <td>35</td>\n",
       "    </tr>\n",
       "    <tr>\n",
       "      <th>3</th>\n",
       "      <td>Sonu</td>\n",
       "      <td>26</td>\n",
       "    </tr>\n",
       "  </tbody>\n",
       "</table>\n",
       "</div>"
      ],
      "text/plain": [
       "    Name  Age\n",
       "0   Yash   25\n",
       "1    Max   30\n",
       "2    Raj   20\n",
       "3  Vicky   22\n",
       "0  Pinky   18\n",
       "1  Shimi   23\n",
       "2  Payal   35\n",
       "3   Sonu   26"
      ]
     },
     "execution_count": 21,
     "metadata": {},
     "output_type": "execute_result"
    }
   ],
   "source": [
    "df_c"
   ]
  },
  {
   "cell_type": "code",
   "execution_count": 24,
   "id": "aa282b6e",
   "metadata": {},
   "outputs": [
    {
     "data": {
      "text/plain": [
       "2    Raj\n",
       "Name: Name, dtype: object"
      ]
     },
     "execution_count": 24,
     "metadata": {},
     "output_type": "execute_result"
    }
   ],
   "source": [
    "# Search for names with age 20\n",
    "search_n = df_c.loc[df_c['Age'] == 20, 'Name']\n",
    "search_n"
   ]
  },
  {
   "cell_type": "code",
   "execution_count": 26,
   "id": "7d09c07b",
   "metadata": {},
   "outputs": [
    {
     "data": {
      "text/html": [
       "<div>\n",
       "<style scoped>\n",
       "    .dataframe tbody tr th:only-of-type {\n",
       "        vertical-align: middle;\n",
       "    }\n",
       "\n",
       "    .dataframe tbody tr th {\n",
       "        vertical-align: top;\n",
       "    }\n",
       "\n",
       "    .dataframe thead th {\n",
       "        text-align: right;\n",
       "    }\n",
       "</style>\n",
       "<table border=\"1\" class=\"dataframe\">\n",
       "  <thead>\n",
       "    <tr style=\"text-align: right;\">\n",
       "      <th></th>\n",
       "      <th>Name</th>\n",
       "      <th>Age</th>\n",
       "    </tr>\n",
       "  </thead>\n",
       "  <tbody>\n",
       "    <tr>\n",
       "      <th>0</th>\n",
       "      <td>Pinky</td>\n",
       "      <td>18</td>\n",
       "    </tr>\n",
       "    <tr>\n",
       "      <th>2</th>\n",
       "      <td>Raj</td>\n",
       "      <td>20</td>\n",
       "    </tr>\n",
       "    <tr>\n",
       "      <th>3</th>\n",
       "      <td>Vicky</td>\n",
       "      <td>22</td>\n",
       "    </tr>\n",
       "    <tr>\n",
       "      <th>1</th>\n",
       "      <td>Shimi</td>\n",
       "      <td>23</td>\n",
       "    </tr>\n",
       "    <tr>\n",
       "      <th>0</th>\n",
       "      <td>Yash</td>\n",
       "      <td>25</td>\n",
       "    </tr>\n",
       "    <tr>\n",
       "      <th>3</th>\n",
       "      <td>Sonu</td>\n",
       "      <td>26</td>\n",
       "    </tr>\n",
       "    <tr>\n",
       "      <th>1</th>\n",
       "      <td>Max</td>\n",
       "      <td>30</td>\n",
       "    </tr>\n",
       "    <tr>\n",
       "      <th>2</th>\n",
       "      <td>Payal</td>\n",
       "      <td>35</td>\n",
       "    </tr>\n",
       "  </tbody>\n",
       "</table>\n",
       "</div>"
      ],
      "text/plain": [
       "    Name  Age\n",
       "0  Pinky   18\n",
       "2    Raj   20\n",
       "3  Vicky   22\n",
       "1  Shimi   23\n",
       "0   Yash   25\n",
       "3   Sonu   26\n",
       "1    Max   30\n",
       "2  Payal   35"
      ]
     },
     "execution_count": 26,
     "metadata": {},
     "output_type": "execute_result"
    }
   ],
   "source": [
    "# Sort dataframe by age\n",
    "sorted_df = df_c.sort_values(by=['Age'], ascending=True)\n",
    "sorted_df"
   ]
  },
  {
   "cell_type": "code",
   "execution_count": 27,
   "id": "5cd03059",
   "metadata": {},
   "outputs": [],
   "source": [
    "# Store ages in a set using loop\n",
    "ages_s = set()\n",
    "for i in df_c['Age']:\n",
    "    ages_s.add(i)\n"
   ]
  },
  {
   "cell_type": "code",
   "execution_count": 29,
   "id": "beae2ad4",
   "metadata": {},
   "outputs": [
    {
     "name": "stdout",
     "output_type": "stream",
     "text": [
      "{35, 18, 20, 22, 23, 25, 26, 30}\n"
     ]
    }
   ],
   "source": [
    "print(ages_s)"
   ]
  },
  {
   "cell_type": "code",
   "execution_count": null,
   "id": "cc375cfe",
   "metadata": {},
   "outputs": [],
   "source": []
  }
 ],
 "metadata": {
  "kernelspec": {
   "display_name": "Python 3 (ipykernel)",
   "language": "python",
   "name": "python3"
  },
  "language_info": {
   "codemirror_mode": {
    "name": "ipython",
    "version": 3
   },
   "file_extension": ".py",
   "mimetype": "text/x-python",
   "name": "python",
   "nbconvert_exporter": "python",
   "pygments_lexer": "ipython3",
   "version": "3.11.5"
  }
 },
 "nbformat": 4,
 "nbformat_minor": 5
}
