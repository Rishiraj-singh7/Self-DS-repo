{
 "cells": [
  {
   "cell_type": "markdown",
   "id": "08a54c75",
   "metadata": {},
   "source": [
    "# hands on"
   ]
  },
  {
   "cell_type": "code",
   "execution_count": 23,
   "id": "efca1486",
   "metadata": {},
   "outputs": [
    {
     "name": "stdout",
     "output_type": "stream",
     "text": [
      "1\n",
      "2\n",
      "3\n",
      "4\n",
      "5\n",
      "6\n",
      "7\n",
      "8\n",
      "9\n",
      "10\n"
     ]
    }
   ],
   "source": [
    "# for loop : repeat a task\n",
    "\n",
    "for i in range(1,11):\n",
    "    print(i)"
   ]
  },
  {
   "cell_type": "code",
   "execution_count": 24,
   "id": "3c0c1c12",
   "metadata": {},
   "outputs": [
    {
     "name": "stdout",
     "output_type": "stream",
     "text": [
      "Not Prime No\n"
     ]
    }
   ],
   "source": [
    "#print prime no froms a list                         **********************\n",
    "list1=[2,3,4,5,6,7,9]\n",
    "\n",
    "num = 10\n",
    " \n",
    "for i in range(2,num):\n",
    "     if num%i==0:\n",
    "        print(\"Not Prime No\")\n",
    "        break\n",
    "else:\n",
    "    print(\"Prime No\")\n"
   ]
  },
  {
   "cell_type": "code",
   "execution_count": 25,
   "id": "782423c7",
   "metadata": {},
   "outputs": [
    {
     "name": "stdout",
     "output_type": "stream",
     "text": [
      "prime number\n",
      "Not a prime number\n",
      "prime number\n",
      "Not a prime number\n",
      "prime number\n"
     ]
    }
   ],
   "source": [
    "def func(num):\n",
    "    if num <=1:\n",
    "        print('not possible to check')\n",
    "    elif num--2|num==3:           # (|) mean = (or)\n",
    "        print('Prime number')\n",
    "    else:\n",
    "        for i in range(2,num):  # for 7 it will run from 2-6\n",
    "            if(num%i==0):\n",
    "                print('Not a prime number')\n",
    "                break\n",
    "        else: \n",
    "            print('prime number')\n",
    "    \n",
    "    \n",
    "func(2)\n",
    "func(8)\n",
    "func(7)\n",
    "func(9)\n",
    "func(5)"
   ]
  },
  {
   "cell_type": "code",
   "execution_count": 26,
   "id": "c295a30a",
   "metadata": {},
   "outputs": [
    {
     "name": "stdout",
     "output_type": "stream",
     "text": [
      "7\n"
     ]
    }
   ],
   "source": [
    "#make a list and print length of that list using list \n",
    "# list1= [1,2,3,4,6,8,9]\n",
    "list1= [1,2,3,4,6,8,9]\n",
    "print(len(list1))\n",
    "     \n",
    "         "
   ]
  },
  {
   "cell_type": "code",
   "execution_count": 27,
   "id": "65c175eb",
   "metadata": {},
   "outputs": [
    {
     "name": "stdout",
     "output_type": "stream",
     "text": [
      "three\n"
     ]
    }
   ],
   "source": [
    "# for list2=['one','two','three'] print last element using reverse indexing\n",
    "list2=['one','two','three']\n",
    "print(list2[-1])\n"
   ]
  },
  {
   "cell_type": "code",
   "execution_count": 28,
   "id": "87bc271c",
   "metadata": {},
   "outputs": [
    {
     "name": "stdout",
     "output_type": "stream",
     "text": [
      "24\n"
     ]
    }
   ],
   "source": [
    "#print sum of all elements of list\n",
    "numbers = [1,2,4,8,9]\n",
    "sumofnum= sum(numbers)\n",
    "print(sumofnum)\n"
   ]
  },
  {
   "cell_type": "code",
   "execution_count": 29,
   "id": "67538346",
   "metadata": {},
   "outputs": [
    {
     "name": "stdout",
     "output_type": "stream",
     "text": [
      "[1, 2, 3, 4, 5, 6, 9]\n",
      "['odd', 'even', 'odd', 'even', 'odd', 'even', 'odd']\n"
     ]
    }
   ],
   "source": [
    "#print if number in list are even or odd\n",
    "list1 = [1,2,3,4,5,6,9]\n",
    "#o/p: [odd, even, odd, even, odd, even, odd]\n",
    "\n",
    "list2 = []\n",
    "def even_list(num):\n",
    "        if num%2==0:\n",
    "            return 'even'\n",
    "        else:\n",
    "            return 'odd'\n",
    "for num in list1:\n",
    "    item = even_list(num)\n",
    "    list2.append(item)\n",
    "    \n",
    "print(list1)\n",
    "print(list2)"
   ]
  },
  {
   "cell_type": "code",
   "execution_count": 30,
   "id": "c4a9de94",
   "metadata": {},
   "outputs": [
    {
     "name": "stdout",
     "output_type": "stream",
     "text": [
      "{67, 77, 78, 45, 22}\n",
      "[67, 77, 78, 45, 22]\n"
     ]
    }
   ],
   "source": [
    "#write a list with duplicate values and there remove all dupiclates from the list\n",
    "dlist = [22,22,45,45,67,78,77,77]\n",
    "# typrcast to set data type\n",
    "slist= set(dlist)\n",
    "print(slist)\n",
    "\n",
    "#convert it back\n",
    "newlist = list(slist)\n",
    "print(newlist)"
   ]
  },
  {
   "cell_type": "code",
   "execution_count": 31,
   "id": "ffe8d701",
   "metadata": {},
   "outputs": [
    {
     "name": "stdout",
     "output_type": "stream",
     "text": [
      "[2, 3, 4, 5, 6]\n",
      "[4, 9, 16, 25, 36]\n"
     ]
    }
   ],
   "source": [
    "#write a code calculate the square of each number in your list and store it in another list\n",
    "\n",
    "list11=[2,3,4,5,6]\n",
    "sqlist=[]\n",
    "\n",
    "for i in list11:\n",
    "    sqlist.append(i**2)\n",
    "    \n",
    "print(list11)\n",
    "print(sqlist)"
   ]
  },
  {
   "cell_type": "code",
   "execution_count": 32,
   "id": "4952f9dd",
   "metadata": {},
   "outputs": [
    {
     "name": "stdout",
     "output_type": "stream",
     "text": [
      "40\n",
      "14\n",
      "6\n",
      "2.5\n"
     ]
    }
   ],
   "source": [
    "#make a calculator which has feature: =,-,*,/\n",
    "\n",
    "def calculate(var,a,b):\n",
    "    if(var=='Add'):\n",
    "        return a+b\n",
    "    elif(var=='Sub'):\n",
    "        return a-b\n",
    "    elif(var=='Mult'):\n",
    "        return a*b\n",
    "    elif(var=='Div'):\n",
    "        return a/b\n",
    "    \n",
    "print(calculate('Mult',10,4))\n",
    "print(calculate('Add',10,4))\n",
    "print(calculate('Sub',10,4))\n",
    "print(calculate('Div',10,4))"
   ]
  },
  {
   "cell_type": "code",
   "execution_count": null,
   "id": "c089c0e0",
   "metadata": {},
   "outputs": [],
   "source": []
  },
  {
   "cell_type": "code",
   "execution_count": 34,
   "id": "daea3f7d",
   "metadata": {},
   "outputs": [
    {
     "name": "stdout",
     "output_type": "stream",
     "text": [
      "option:\n",
      "write add to sum:\n",
      "write sum to subract:\n",
      "write mul to multiple:\n",
      "write div to divide:\n",
      ": add\n",
      "number 1 please: 2\n",
      "number 2 please: 6\n",
      "result:  8\n"
     ]
    }
   ],
   "source": [
    "def add(a,b):\n",
    "    return a+b\n",
    "def sub(a,b):\n",
    "    return a-b\n",
    "def mul(a,b):\n",
    "    return a*b\n",
    "def div(a,b):\n",
    "    return a/b\n",
    "\n",
    "print('option:')\n",
    "print('write add to sum:')\n",
    "print('write sum to subract:')\n",
    "print('write mul to multiple:')\n",
    "print('write div to divide:')\n",
    "\n",
    "operation = input(': ')\n",
    "num1=int(input('number 1 please: '))\n",
    "num2=int(input('number 2 please: '))\n",
    "if operation =='add':\n",
    "    print('result: ', add(num1,num2))\n",
    "elif operation =='sub':\n",
    "    print('result: ', sub(num1,num2))\n",
    "elif operation =='mul':\n",
    "    print('result: ', mul(num1,num2))\n",
    "elif operation =='div':\n",
    "    print('result: ', div(num1,num2))"
   ]
  },
  {
   "cell_type": "code",
   "execution_count": 35,
   "id": "4d98d239",
   "metadata": {},
   "outputs": [
    {
     "name": "stdout",
     "output_type": "stream",
     "text": [
      "option:\n",
      "write add to addition:\n",
      "write sum to subract:\n",
      "write mul to multiple:\n",
      "write div to divide:\n",
      ": div\n",
      "number 1 please: 20\n",
      "number 2 please: 5\n",
      "result:  4.0\n"
     ]
    }
   ],
   "source": [
    "def add(a,b):\n",
    "    return a+b\n",
    "def sub(a,b):\n",
    "    return a-b\n",
    "def mul(a,b):\n",
    "    return a*b\n",
    "def div(a,b):\n",
    "    return a/b\n",
    "\n",
    "print('option:')\n",
    "print('write add to addition:')\n",
    "print('write sum to subract:')\n",
    "print('write mul to multiple:')\n",
    "print('write div to divide:')\n",
    "\n",
    "operation = input(': ')\n",
    "num1=int(input('number 1 please: '))\n",
    "num2=int(input('number 2 please: '))\n",
    "\n",
    "if operation == 'add':\n",
    "    print('result: ', add(num1,num2))\n",
    "elif operation == 'sub':\n",
    "    print('result: ', sub(num1,num2))\n",
    "elif operation == 'mul':\n",
    "    print('result: ', mul(num1,num2))\n",
    "elif operation == 'div':\n",
    "    print('result: ', div(num1,num2))\n"
   ]
  },
  {
   "cell_type": "code",
   "execution_count": null,
   "id": "f85eaa98",
   "metadata": {},
   "outputs": [],
   "source": []
  }
 ],
 "metadata": {
  "kernelspec": {
   "display_name": "Python 3 (ipykernel)",
   "language": "python",
   "name": "python3"
  },
  "language_info": {
   "codemirror_mode": {
    "name": "ipython",
    "version": 3
   },
   "file_extension": ".py",
   "mimetype": "text/x-python",
   "name": "python",
   "nbconvert_exporter": "python",
   "pygments_lexer": "ipython3",
   "version": "3.11.5"
  }
 },
 "nbformat": 4,
 "nbformat_minor": 5
}
