{
 "cells": [
  {
   "cell_type": "code",
   "execution_count": 1,
   "id": "078e3201",
   "metadata": {},
   "outputs": [],
   "source": [
    "#OOPS concepts in Python: Object Oriented Programming\n",
    "\n",
    "# class: blueprint of whole program (Animal class: sound)\n",
    "# objects: instance/ entity of class with properties mentioned in class (cat: meow sound,dog: barking sound)"
   ]
  },
  {
   "cell_type": "code",
   "execution_count": 8,
   "id": "b15d609d",
   "metadata": {},
   "outputs": [
    {
     "name": "stdout",
     "output_type": "stream",
     "text": [
      "20\n",
      "vrinda\n",
      "30\n"
     ]
    }
   ],
   "source": [
    "#class\n",
    "#syntax: class Name:\n",
    "#           expressions\n",
    "\n",
    "#object:\n",
    "#syntax: objectname= classname()\n",
    "\n",
    "class Zoom: #class\n",
    "  a=20\n",
    "  b='vrinda'\n",
    "\n",
    "cat=Zoom() #object 1 of class Zoom\n",
    "print(cat.a) #using syntax objectname.variablename i can access all variable outside the class\n",
    "print(cat.b)\n",
    "\n",
    "#mutliple objects for same class\n",
    "dog=Zoom() #object 2 of class Zoom\n",
    "dog.a=30\n",
    "print(dog.a) #value of a is different for both objects"
   ]
  },
  {
   "cell_type": "code",
   "execution_count": 10,
   "id": "21ba7ab3",
   "metadata": {},
   "outputs": [
    {
     "name": "stdout",
     "output_type": "stream",
     "text": [
      "Vrinda\n"
     ]
    }
   ],
   "source": [
    "def zoom():\n",
    "    a=30\n",
    "    print('Vrinda')\n",
    "    \n",
    "zoom()"
   ]
  },
  {
   "cell_type": "code",
   "execution_count": 3,
   "id": "9a2d6f8a",
   "metadata": {},
   "outputs": [
    {
     "name": "stdout",
     "output_type": "stream",
     "text": [
      "20\n",
      "(20, 'vrinda')\n",
      "vrinda\n"
     ]
    }
   ],
   "source": [
    "#init function: constructor which gets called when an object is created, used to make variable/members accessible inside your class\n",
    "#syntax: __init__\n",
    "#variables: data members\n",
    "#functions: methods\n",
    "\n",
    "class Zoom: #class\n",
    "  def __init__(self): #2.\n",
    "    self.a=20 #3.creating memebers and assigning value to self.a and self.b\n",
    "    self.b='vrinda'\n",
    "\n",
    "  def fun1(self):#6\n",
    "    return self.a,self.b\n",
    "\n",
    "  def fun2(self):#8\n",
    "    return self.b\n",
    "\n",
    "obj=Zoom() #1.allocate memory to class Zoom+ call __init__ fucntion\n",
    "print(obj.a) #4.\n",
    "print(obj.fun1()) #5\n",
    "print(obj.fun2()) #7"
   ]
  },
  {
   "cell_type": "code",
   "execution_count": 1,
   "id": "65441ae0",
   "metadata": {},
   "outputs": [],
   "source": [
    "#flow without init\n",
    "# class Zoom: #3\n",
    "#   a=20 #4.\n",
    "#   b='vrinda'#5\n",
    "\n",
    "#   def func():\n",
    "#     return a #will give error without init function\n",
    "\n",
    "# cat=Zoom() #1. allocate memory to class Zoom\n",
    "# print(cat.a) #2.go to Zoom, fetch and print value of member a\n",
    "# print(cat.b) #6.\n",
    "# print(cat.func())"
   ]
  },
  {
   "cell_type": "code",
   "execution_count": 5,
   "id": "15d7a94d",
   "metadata": {},
   "outputs": [
    {
     "name": "stdout",
     "output_type": "stream",
     "text": [
      "10\n",
      "30\n"
     ]
    }
   ],
   "source": [
    "class Zoom:\n",
    "  def __init__(self,a,b): #2: allocate values 10,20 to a,b for obj1 #5: allocate values 30,40 to obj2\n",
    "    self.a=a\n",
    "    self.b=b\n",
    "\n",
    "obj1=Zoom(10,20) #1 calling init with values 10,20\n",
    "print(obj1.a) #3. print obj1.a=10\n",
    "\n",
    "obj2=Zoom(30,40) #4 : again init will be called with values 30,40\n",
    "print(obj2.a)"
   ]
  },
  {
   "cell_type": "code",
   "execution_count": 6,
   "id": "a053372b",
   "metadata": {},
   "outputs": [
    {
     "name": "stdout",
     "output_type": "stream",
     "text": [
      "10\n",
      "20\n",
      "30\n",
      "20\n"
     ]
    }
   ],
   "source": [
    "class Zoom:\n",
    "  def __init__(self,a): #2: allocate values 10,20 to a,b for obj1 #5: allocate values 30,40 to obj2\n",
    "    self.a=a\n",
    "    self.b=20\n",
    "\n",
    "obj1=Zoom(10) #1 calling init with values 10,20\n",
    "print(obj1.a) #3. print obj1.a=10\n",
    "print(obj1.b)\n",
    "\n",
    "obj2=Zoom(30) #4 : again init will be called with values 30,40\n",
    "print(obj2.a)\n",
    "print(obj2.b)"
   ]
  },
  {
   "cell_type": "code",
   "execution_count": 7,
   "id": "aaca8d42",
   "metadata": {},
   "outputs": [
    {
     "name": "stdout",
     "output_type": "stream",
     "text": [
      "10\n",
      "20\n",
      "30\n",
      "0\n"
     ]
    }
   ],
   "source": [
    "class Zoom:\n",
    "  def __init__(self,a,b=0): #2: allocate values 10,20 to a,b for obj1 #5: allocate values 30,40 to obj2\n",
    "    self.a=a\n",
    "    self.b=b\n",
    "\n",
    "obj1=Zoom(10,20) #1 calling init with values 10,20\n",
    "print(obj1.a) #3. print obj1.a=10\n",
    "print(obj1.b)\n",
    "\n",
    "obj2=Zoom(30) #4 : again init will be called with values 30,40\n",
    "print(obj2.a)\n",
    "print(obj2.b)"
   ]
  },
  {
   "cell_type": "code",
   "execution_count": 8,
   "id": "24b941f1",
   "metadata": {},
   "outputs": [
    {
     "name": "stdout",
     "output_type": "stream",
     "text": [
      "1\n",
      "2\n",
      "3\n",
      "4\n"
     ]
    }
   ],
   "source": [
    "class Zoom: #class\n",
    "    def printlist(self,list1):\n",
    "      for i in list1:\n",
    "        print(i)\n",
    " #     0 1 2 3\n",
    "list1=[1,2,3,4]\n",
    "obj1=Zoom()\n",
    "obj1.printlist(list1)\n"
   ]
  },
  {
   "cell_type": "code",
   "execution_count": 11,
   "id": "0d4190ab",
   "metadata": {},
   "outputs": [
    {
     "name": "stdout",
     "output_type": "stream",
     "text": [
      "Meow\n",
      "Woof\n"
     ]
    }
   ],
   "source": [
    "class Animal:\n",
    "  def __init__(self,sound):\n",
    "    self.sound=sound #assigning value of sound1 to self.sound\n",
    "\n",
    "  def printsound(self):\n",
    "    return self.sound\n",
    "\n",
    "#creating an object that will pass meow to sound1 in init function\n",
    "cat=Animal('Meow') #for object1 sound1 is meow that will be stored in self.sound\n",
    "print(cat.printsound())\n",
    "\n",
    "#creating another object that will pass woof to sound1 in init function\n",
    "dog=Animal('Woof') #for object2 sound1 is woof that will be stored in self.sound\n",
    "print(dog.printsound())\n"
   ]
  },
  {
   "cell_type": "code",
   "execution_count": 16,
   "id": "cc75ef4f",
   "metadata": {},
   "outputs": [
    {
     "name": "stdout",
     "output_type": "stream",
     "text": [
      "('Kapil', 'Vashishat')\n",
      "('Arpita', 'Misra')\n"
     ]
    }
   ],
   "source": [
    "class Person:\n",
    "  def __init__(self,firstname,lastname):\n",
    "    self.firstname=firstname\n",
    "    self.lastname=lastname\n",
    "\n",
    "  def printname(self): #methods\n",
    "    return self.firstname,self.lastname\n",
    "\n",
    "#creating objects of class\n",
    "person1=Person('Kapil','Vashishat') #these values will be passed to init\n",
    "person2=Person('Arpita','Misra')\n",
    "\n",
    "#calling printname for both objects\n",
    "print(person1.printname())\n",
    "print(person2.printname())"
   ]
  },
  {
   "cell_type": "code",
   "execution_count": 17,
   "id": "d89a8a8b",
   "metadata": {},
   "outputs": [],
   "source": [
    " \n",
    "     #Inheritance\n",
    "#child class that inherits parent class properties\n",
    "#child class: class that is inheriting the properties from parent (Derived class)\n",
    "#parent class: class from which child class inherits proerties (Base class)\n",
    "\n",
    "#syntax\n",
    "# class Parent:\n",
    "#   #statements\n",
    "\n",
    "# class Child(Parent):\n",
    "#   #statements"
   ]
  },
  {
   "cell_type": "code",
   "execution_count": 18,
   "id": "4eef5d03",
   "metadata": {},
   "outputs": [
    {
     "name": "stdout",
     "output_type": "stream",
     "text": [
      "('Vrinda', 'Value2')\n",
      "hi i am parent function\n"
     ]
    }
   ],
   "source": [
    "#single inheritance\n",
    "# A(parent) -> B(child)\n",
    "\n",
    "#person is parent class\n",
    "class Person:\n",
    "  def __init__(self,firstname,lastname): #3. assign values to self.firstname and self.lastname\n",
    "    self.firstname=firstname\n",
    "    self.lastname=lastname\n",
    "\n",
    "  def fun1(self):\n",
    "    return 'hi i am parent function'\n",
    "\n",
    "#student is child class\n",
    "class Student(Person): #2. there is inheritance+no init inside student, so go to init of parent class\n",
    "  def printname(self):\n",
    "    return self.firstname,self.lastname\n",
    "\n",
    "obj_of_child=Student('Vrinda','Value2') #1. go to student class, check init, if not there, go to parent's init\n",
    "print(obj_of_child.printname())\n",
    "print(obj_of_child.fun1()) #first check in child, if not found call parent's function using object of child class"
   ]
  },
  {
   "cell_type": "code",
   "execution_count": 19,
   "id": "626eff77",
   "metadata": {},
   "outputs": [
    {
     "name": "stdout",
     "output_type": "stream",
     "text": [
      "('Hina', 'Siddiqui')\n",
      "hi i am child class function\n"
     ]
    }
   ],
   "source": [
    "#super(): function to call init constructor of parent class\n",
    "class Person:\n",
    "  def __init__(self,fistname,lastname): #4.: updating the values of self.firstname and self.lastname\n",
    "    self.firstname='Hina'\n",
    "    self.lastname='Siddiqui'\n",
    "\n",
    "  def fun1(self):\n",
    "    return 'hi i am parent function'\n",
    "\n",
    "#student is child class\n",
    "class Student(Person):\n",
    "  def __init__(self,firstname,lastname):#2. assigned values\n",
    "    self.firstname=firstname #vrinda\n",
    "    self.lastname=lastname #value2\n",
    "    super().__init__(firstname,lastname) #3. here, parent's init will be calles\n",
    "\n",
    "  def printname(self):#6: return the updated values since self is shared between parent and child class\n",
    "    return self.firstname,self.lastname\n",
    "\n",
    "  def fun1(self):\n",
    "    return 'hi i am child class function'\n",
    "\n",
    "obj_of_child=Student('Vrinda','Value2')#1.these values will be passed to init of child classs now, since it is present\n",
    "print(obj_of_child.printname())#5 calls printname\n",
    "print(obj_of_child.fun1())\n",
    "\n",
    "#fname:Vrinda: Hina\n",
    "#lname:Value2: Siddiqui"
   ]
  },
  {
   "cell_type": "code",
   "execution_count": null,
   "id": "ffd8a472",
   "metadata": {},
   "outputs": [],
   "source": []
  }
 ],
 "metadata": {
  "kernelspec": {
   "display_name": "Python 3 (ipykernel)",
   "language": "python",
   "name": "python3"
  },
  "language_info": {
   "codemirror_mode": {
    "name": "ipython",
    "version": 3
   },
   "file_extension": ".py",
   "mimetype": "text/x-python",
   "name": "python",
   "nbconvert_exporter": "python",
   "pygments_lexer": "ipython3",
   "version": "3.11.5"
  }
 },
 "nbformat": 4,
 "nbformat_minor": 5
}
