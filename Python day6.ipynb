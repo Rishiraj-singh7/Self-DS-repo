{
 "cells": [
  {
   "cell_type": "code",
   "execution_count": 1,
   "id": "c5806abf",
   "metadata": {},
   "outputs": [
    {
     "name": "stdout",
     "output_type": "stream",
     "text": [
      "20\n",
      "20\n"
     ]
    }
   ],
   "source": [
    "class Parent:\n",
    "  def __init__(self,a):\n",
    "    self.a=a #get value 20 passes from child class object\n",
    "\n",
    "class Child(Parent):\n",
    "  def method(self):\n",
    "    return self.a #return value of self.a\n",
    "\n",
    "#making an object of child class\n",
    "obj=Child(20) #1. will go to child class's init but since there is no init in child class, it will go to init of parent class\n",
    "print(obj.method())\n",
    "print(obj.a)\n"
   ]
  },
  {
   "cell_type": "code",
   "execution_count": 2,
   "id": "78052407",
   "metadata": {},
   "outputs": [
    {
     "name": "stdout",
     "output_type": "stream",
     "text": [
      "34\n"
     ]
    }
   ],
   "source": [
    "class Parent:\n",
    "  def __init__(self,a):\n",
    "    self.a=34 #4.updating the value of a to 34\n",
    "\n",
    "class Child(Parent):\n",
    "  def __init__(self,a): #2. assign value\n",
    "    self.a=a\n",
    "    super().__init__(a) #3. it will go to init of parent class\n",
    "\n",
    "  def method(self): #6. return self.a\n",
    "    return self.a #return value of self.a\n",
    "\n",
    "#making an object of child class\n",
    "obj=Child(20) #1. will go to child class's init\n",
    "print(obj.method()) #5. go to method of child class\n",
    "\n",
    "#a(child)=20=34"
   ]
  },
  {
   "cell_type": "code",
   "execution_count": 3,
   "id": "28741b5e",
   "metadata": {},
   "outputs": [],
   "source": [
    "#multiple inheritance: (A,B,D) inherited by C\n",
    "#parent classes\n",
    "# class A\n",
    "# class B\n",
    "# class D\n",
    "\n",
    "#child class\n",
    "# class C(A,B,D)"
   ]
  },
  {
   "cell_type": "code",
   "execution_count": 4,
   "id": "54d8ec8d",
   "metadata": {},
   "outputs": [
    {
     "name": "stdout",
     "output_type": "stream",
     "text": [
      "Ramesh Sunita\n",
      "Sunita\n",
      "Ramesh\n"
     ]
    }
   ],
   "source": [
    "#parent class 1\n",
    "class Mother:\n",
    "  # mothername=''\n",
    "  def mother(self): #6. execute\n",
    "    print(self.mothername)\n",
    "\n",
    "#parent class 2\n",
    "class Father:\n",
    "  # fathername=''\n",
    "  def father(self):\n",
    "    print(self.fathername)\n",
    "\n",
    "#child class\n",
    "class Son(Mother, Father):\n",
    "  def __init__(self,fathername,mothername): #2. assign values\n",
    "    self.fathername=fathername #Ramesh\n",
    "    self.mothername=mothername #Sunita\n",
    "\n",
    "  def parent(self): #4. execute it\n",
    "    print(self.fathername,self.mothername)\n",
    "\n",
    "sonobj=Son('Ramesh','Sunita') #1. will create an object and go to init ofSom class\n",
    "sonobj.parent() #3. go to child class and search for parent method\n",
    "\n",
    "sonobj.mother() #5. go to child class (Son) and search for mother method, since its not present in Son, it will check parent classes\n",
    "sonobj.father()\n"
   ]
  },
  {
   "cell_type": "code",
   "execution_count": 5,
   "id": "11e282a1",
   "metadata": {},
   "outputs": [],
   "source": [
    "#multilevel inheritance: A->B->C\n",
    "# class A:\n",
    "\n",
    "\n",
    "# class B(A):\n",
    "\n",
    "\n",
    "# class C(B):\n"
   ]
  },
  {
   "cell_type": "code",
   "execution_count": 18,
   "id": "89021267",
   "metadata": {},
   "outputs": [
    {
     "name": "stdout",
     "output_type": "stream",
     "text": [
      "1234 4321 HDFC\n"
     ]
    }
   ],
   "source": [
    "class Bank:\n",
    "  def __init__(self,bankname): #6. assign value to bankname member\n",
    "    self.bankname=bankname #HDFC\n",
    "\n",
    "class Parent(Bank):\n",
    "  def __init__(self,parentacctnumber,bankname): #4. assign value to parentacctnumber\n",
    "    self.parentacctnumber=parentacctnumber #4321\n",
    "    super().__init__(bankname) #5. go to Bank class's init function\n",
    "\n",
    "class Child(Parent):\n",
    "  def __init__(self,childacctnumber,parentacctnumber,bankname): #2. assign values\n",
    "    self.childacctnumber=childacctnumber #1234\n",
    "    super().__init__(parentacctnumber,bankname) #3. go to Parent class's init function\n",
    "\n",
    "  def printnumbers(self): #8. execute it\n",
    "    print(self.childacctnumber, self.parentacctnumber,self.bankname)\n",
    "\n",
    "obj=Child('1234','4321','HDFC') #1.init of child class\n",
    "obj.printnumbers()#7 go to printnumbers method of Child class"
   ]
  },
  {
   "cell_type": "code",
   "execution_count": 21,
   "id": "41c10d44",
   "metadata": {},
   "outputs": [
    {
     "name": "stdout",
     "output_type": "stream",
     "text": [
      "Ford Mustang\n",
      "ABC Titanic\n"
     ]
    }
   ],
   "source": [
    "#Polymorphism: many+forms\n",
    "\n",
    "class Car:\n",
    "  def __init__(self, brandofcar, modelofcar):#2. assign values\n",
    "    self.brandofcar=brandofcar #Ford\n",
    "    self.modelofcar=modelofcar #Mustang\n",
    "\n",
    "  def printvalues(self):\n",
    "    print(self.brandofcar,self.modelofcar)\n",
    "\n",
    "class Boat:\n",
    "  def __init__(self, brandofboat, modelofboat): #4. assign values\n",
    "    self.brandofboat=brandofboat #ABC\n",
    "    self.modelofboat=modelofboat #Titanic\n",
    "\n",
    "  def printvalues(self):\n",
    "    print(self.brandofboat,self.modelofboat)\n",
    "\n",
    "car1=Car('Ford','Mustang') #1.will go to class Car's init function\n",
    "\n",
    "boat1=Boat('ABC','Titanic') #3. will go to class Boat's init function\n",
    "\n",
    "# car1.printvalues() #5. go to Car class's printvalues method/function and execute\n",
    "\n",
    "# boat1.printvalues() #6. go to Boat class's printvalues and execute\n",
    "\n",
    "for x in (car1,boat1):\n",
    "  x.printvalues() #car1.printvalues(), boat1.printvalues()"
   ]
  },
  {
   "cell_type": "code",
   "execution_count": 22,
   "id": "a513be42",
   "metadata": {},
   "outputs": [],
   "source": [
    "#Encapsulation: it is protecting your members and methods in class so that we can increase code security\n",
    "\n",
    "#public members: that is accessible by everyone inside as well as outside class (name)\n",
    "#private members: this is only accessible inside the main class (__name)"
   ]
  },
  {
   "cell_type": "code",
   "execution_count": 23,
   "id": "9635da19",
   "metadata": {},
   "outputs": [
    {
     "name": "stdout",
     "output_type": "stream",
     "text": [
      "30\n",
      "20\n",
      "30\n",
      "30\n"
     ]
    }
   ],
   "source": [
    "class Base:\n",
    "  def __init__(self):\n",
    "    self.a=20 #public member\n",
    "    self.__b=30 #private member is stored in memory like: _Classname__vaiablename\n",
    "    print(self.__b)\n",
    "\n",
    "class Derived(Base):\n",
    "  def __init__(self):\n",
    "    super().__init__()\n",
    "    print(self.a)\n",
    "    print(self._Base__b) #Name mangling: will give value of __b because now we are accessing it using name of the class where it is defined\n",
    "    # print(self.__b) #will give error\n",
    "\n",
    "obj=Derived()\n",
    "obj1=Base()"
   ]
  },
  {
   "cell_type": "code",
   "execution_count": 24,
   "id": "c17a0edf",
   "metadata": {},
   "outputs": [],
   "source": [
    "#Abstraction: make certain methods to be used strictly in child class\n",
    "\n",
    "#sytax:\n",
    "# ABC is parent class of all Abstract classes\n",
    "# from abc import ABC, abstractmethod\n",
    "\n",
    "# class Name(ABC): #i am making Name an abstract class\n",
    "\n",
    "# #to make a method an abstract method:\n",
    "# '@abstractmethod'"
   ]
  },
  {
   "cell_type": "code",
   "execution_count": 25,
   "id": "a1c9cdf4",
   "metadata": {},
   "outputs": [
    {
     "name": "stdout",
     "output_type": "stream",
     "text": [
      "the milage of Tesla\n",
      "the milage of Duster\n"
     ]
    }
   ],
   "source": [
    "#below line is a syntax/Keyword, please always use the same to do abstraction\n",
    "from abc import ABC, abstractmethod #from module abc, importing parent abstract class(ABC) and abstractmethod\n",
    "\n",
    "#now, since you are inheriting ABC in Car, so Car is also an abstract class now\n",
    "class Car(ABC):\n",
    "    def milage(self):\n",
    "        pass # do nothing\n",
    "    \n",
    "#pass: keyword that is used when we don't want to execute any task in a function but just want to define it\n",
    "\n",
    "class Tesla(Car):\n",
    "  def milage(self):\n",
    "    print('the milage of Tesla')\n",
    "\n",
    "class Duster(Car):\n",
    "  def milage(self): #commenting it will give error, please try\n",
    "    print('the milage of Duster')\n",
    "  pass\n",
    "\n",
    "tesla1=Tesla()\n",
    "tesla1.milage()\n",
    "\n",
    "duster1=Duster()\n",
    "duster1.milage()"
   ]
  },
  {
   "cell_type": "code",
   "execution_count": 29,
   "id": "cc32a51e",
   "metadata": {},
   "outputs": [
    {
     "name": "stdout",
     "output_type": "stream",
     "text": [
      "i am a simple function\n"
     ]
    }
   ],
   "source": [
    "class A(ABC): #this is an abstract class\n",
    "      @abstractmethod\n",
    "      def fun1(self):\n",
    "        print('I am an abstract method')\n",
    "            \n",
    "class B(A):\n",
    "    def fun1(self):\n",
    "        pass\n",
    "    def any(self):\n",
    "        print('i am a simple function')\n",
    "        \n",
    "obj=B()\n",
    "obj.any()"
   ]
  },
  {
   "cell_type": "code",
   "execution_count": null,
   "id": "fda73f94",
   "metadata": {},
   "outputs": [],
   "source": []
  }
 ],
 "metadata": {
  "kernelspec": {
   "display_name": "Python 3 (ipykernel)",
   "language": "python",
   "name": "python3"
  },
  "language_info": {
   "codemirror_mode": {
    "name": "ipython",
    "version": 3
   },
   "file_extension": ".py",
   "mimetype": "text/x-python",
   "name": "python",
   "nbconvert_exporter": "python",
   "pygments_lexer": "ipython3",
   "version": "3.11.5"
  }
 },
 "nbformat": 4,
 "nbformat_minor": 5
}
