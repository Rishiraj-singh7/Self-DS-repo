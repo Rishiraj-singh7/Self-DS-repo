{
 "cells": [
  {
   "cell_type": "code",
   "execution_count": 9,
   "id": "9005ccfe",
   "metadata": {},
   "outputs": [],
   "source": [
    "import scipy.stats as st\n",
    "import statistics as s\n",
    "import numpy as np\n",
    "import seaborn as sns\n",
    "import matplotlib.pyplot as plt"
   ]
  },
  {
   "cell_type": "code",
   "execution_count": 2,
   "id": "ffb1868c",
   "metadata": {},
   "outputs": [
    {
     "data": {
      "text/plain": [
       "array([ 1.92346753,  1.00578442,  0.41361642, -0.2290041 , -0.38968213,\n",
       "        0.87316346, -1.83813815, -0.73773392,  0.03850119, -1.05970605,\n",
       "        0.37624164,  0.20552043,  0.5367886 , -0.19886827, -1.61774409,\n",
       "        0.45293729, -0.27707905, -0.83373329,  0.75631026, -0.11605873,\n",
       "        0.04188172, -0.82656735, -0.0333026 ,  0.40866985, -0.95214109,\n",
       "       -0.30066984,  0.30189439, -1.67174639,  0.78727323,  0.75032369,\n",
       "        0.82065421,  0.66925418,  1.24284363,  0.70999158, -0.69829008,\n",
       "        0.30960541, -0.15190049, -0.09789297, -1.23322381,  1.89223063,\n",
       "        1.81726773, -0.56828568, -0.51180543, -0.58686677, -0.12404784,\n",
       "       -0.79792241,  1.97078202,  0.24195796, -0.00569821, -0.03594415,\n",
       "        0.66451234, -2.54944246, -1.13713929, -2.44764115,  0.98517518,\n",
       "        0.78528594,  0.41908189,  0.17743871,  0.68829638, -0.64633866,\n",
       "        1.26984033, -0.41892942, -1.32181253,  1.32702878,  0.95354245,\n",
       "        0.97145068, -1.04238371, -1.12477815, -1.14399158,  0.65599359,\n",
       "       -1.14535563,  0.43578729,  0.93490492,  1.45429612,  1.00314224,\n",
       "        0.04559651, -0.38846485,  0.87080338, -0.81018758,  0.49506052,\n",
       "        1.09193331,  0.5933312 , -0.24778492,  1.1152377 ,  0.30108486,\n",
       "        1.02812502,  1.2650801 ,  0.61237266,  1.92064648, -1.1419377 ,\n",
       "       -0.44603103,  0.33125719,  1.1901099 , -0.60086433,  0.08146737,\n",
       "        1.46560192, -0.38379347, -1.3536155 ,  0.24201618, -1.20172515])"
      ]
     },
     "execution_count": 2,
     "metadata": {},
     "output_type": "execute_result"
    }
   ],
   "source": [
    "x = np.random.normal(size=100)\n",
    "x"
   ]
  },
  {
   "cell_type": "code",
   "execution_count": 3,
   "id": "85eccb28",
   "metadata": {},
   "outputs": [
    {
     "data": {
      "text/plain": [
       "0.08476192569092209"
      ]
     },
     "execution_count": 3,
     "metadata": {},
     "output_type": "execute_result"
    }
   ],
   "source": [
    "sample_mean = np.mean(x)\n",
    "sample_mean"
   ]
  },
  {
   "cell_type": "code",
   "execution_count": 4,
   "id": "6a961eae",
   "metadata": {},
   "outputs": [
    {
     "data": {
      "text/plain": [
       "0.9674115617077534"
      ]
     },
     "execution_count": 4,
     "metadata": {},
     "output_type": "execute_result"
    }
   ],
   "source": [
    "sample_std = s.stdev(x)\n",
    "sample_std"
   ]
  },
  {
   "cell_type": "code",
   "execution_count": 5,
   "id": "c1bf1dca",
   "metadata": {},
   "outputs": [
    {
     "data": {
      "text/plain": [
       "0.09674115617077535"
      ]
     },
     "execution_count": 5,
     "metadata": {},
     "output_type": "execute_result"
    }
   ],
   "source": [
    "std_err = st.sem(x)\n",
    "std_err"
   ]
  },
  {
   "cell_type": "code",
   "execution_count": 7,
   "id": "c75960dd",
   "metadata": {},
   "outputs": [
    {
     "data": {
      "text/plain": [
       "1.6448536269514722"
      ]
     },
     "execution_count": 7,
     "metadata": {},
     "output_type": "execute_result"
    }
   ],
   "source": [
    "#confidence value 95%\n",
    "z_value = st.norm.ppf(1-0.05)\n",
    "z_value"
   ]
  },
  {
   "cell_type": "code",
   "execution_count": 8,
   "id": "eec0dadd",
   "metadata": {},
   "outputs": [
    {
     "data": {
      "text/plain": [
       "2.3263478740408408"
      ]
     },
     "execution_count": 8,
     "metadata": {},
     "output_type": "execute_result"
    }
   ],
   "source": [
    "#confidence value 99%\n",
    "z_value = st.norm.ppf(1-0.01)\n",
    "z_value"
   ]
  },
  {
   "cell_type": "code",
   "execution_count": 10,
   "id": "3cd968be",
   "metadata": {},
   "outputs": [
    {
     "name": "stdout",
     "output_type": "stream",
     "text": [
      "-0.1402916572992141 0.08476192569092209 0.3098155086810583\n"
     ]
    }
   ],
   "source": [
    "LowerCi = sample_mean - (z_value*std_err)\n",
    "UpperCi = sample_mean + (z_value*std_err)\n",
    "\n",
    "print(LowerCi,sample_mean,UpperCi)"
   ]
  },
  {
   "cell_type": "code",
   "execution_count": 11,
   "id": "886d82ca",
   "metadata": {},
   "outputs": [
    {
     "name": "stderr",
     "output_type": "stream",
     "text": [
      "C:\\Users\\Rishi\\anaconda3\\Lib\\site-packages\\seaborn\\axisgrid.py:118: UserWarning: The figure layout has changed to tight\n",
      "  self._figure.tight_layout(*args, **kwargs)\n"
     ]
    },
    {
     "data": {
      "image/png": "[encoded data removed]",
      "text/plain": [
       "<Figure size 500x500 with 1 Axes>"
      ]
     },
     "metadata": {},
     "output_type": "display_data"
    }
   ],
   "source": [
    "# Plotting CI\n",
    "sns.displot(x)\n",
    "plt.axvline(x=LowerCi, color='red')\n",
    "plt.axvline(x=UpperCi, color='red')\n",
    "plt.axvline(x=sample_mean, color='green')\n",
    "plt.show()"
   ]
  },
  {
   "cell_type": "markdown",
   "id": "5b589fb9",
   "metadata": {},
   "source": [
    "# T-Test"
   ]
  },
  {
   "cell_type": "code",
   "execution_count": 3,
   "id": "6d5c1e4e",
   "metadata": {},
   "outputs": [],
   "source": [
    "# one sample t-test\n",
    "from scipy.stats import ttest_1samp\n",
    "from random import sample\n",
    "import numpy as np"
   ]
  },
  {
   "cell_type": "code",
   "execution_count": 4,
   "id": "0117d808",
   "metadata": {},
   "outputs": [],
   "source": [
    "#generating a random sample to get the heights\n",
    "sample = sample(range(145, 180), 30)\n",
    "#calculating the sample mean\n",
    "sample_mean = np.mean(sample)"
   ]
  },
  {
   "cell_type": "code",
   "execution_count": 5,
   "id": "062bf427",
   "metadata": {},
   "outputs": [
    {
     "data": {
      "text/plain": [
       "TtestResult(statistic=-1.0405472835443648, pvalue=0.30668358478005225, df=29)"
      ]
     },
     "execution_count": 5,
     "metadata": {},
     "output_type": "execute_result"
    }
   ],
   "source": [
    "#one-sample t-test parameters\n",
    "ttest_1samp(a=sample, popmean=165)"
   ]
  },
  {
   "cell_type": "markdown",
   "id": "7f814cfa",
   "metadata": {},
   "source": [
    "# P-Test"
   ]
  },
  {
   "cell_type": "code",
   "execution_count": 7,
   "id": "e9ab213e",
   "metadata": {},
   "outputs": [],
   "source": [
    "from random import sample\n",
    "import numpy as np\n",
    "import scipy\n"
   ]
  },
  {
   "cell_type": "code",
   "execution_count": 8,
   "id": "c5543197",
   "metadata": {},
   "outputs": [],
   "source": [
    "sample_1 = sample(range(100, 300), 30)\n",
    "sample_2 = sample(range(1000, 1300), 30)"
   ]
  },
  {
   "cell_type": "code",
   "execution_count": 9,
   "id": "eaa52d72",
   "metadata": {},
   "outputs": [],
   "source": [
    "# F-test\n",
    "f = np.var(sample_1) / np.var(sample_2)\n",
    "p = scipy.stats.f.cdf(f, len(sample_1) - 1, len(sample_2) - 1)"
   ]
  },
  {
   "cell_type": "code",
   "execution_count": 10,
   "id": "ce64fc87",
   "metadata": {},
   "outputs": [
    {
     "name": "stdout",
     "output_type": "stream",
     "text": [
      "F-statistic: 0.30988346843932363\n",
      "P-value: 0.00116320274966758\n"
     ]
    }
   ],
   "source": [
    "print(f\"F-statistic: {f}\")\n",
    "print(f\"P-value: {p}\")"
   ]
  },
  {
   "cell_type": "markdown",
   "id": "ec97ace9",
   "metadata": {},
   "source": [
    "# One-Way ANOVA"
   ]
  },
  {
   "cell_type": "code",
   "execution_count": 16,
   "id": "b35d81cd",
   "metadata": {},
   "outputs": [],
   "source": [
    "#one-factor ANOVA\n",
    "from random import sample\n",
    "from scipy.stats import f_oneway\n"
   ]
  },
  {
   "cell_type": "code",
   "execution_count": 17,
   "id": "4965e0d7",
   "metadata": {},
   "outputs": [],
   "source": [
    "sample_1 = sample(range(0,100),20)\n",
    "sample_2 = sample(range(0,95),20)\n",
    "sample_3 = sample(range(0,120),20)\n",
    "sample_4 = sample(range(0,145),20)"
   ]
  },
  {
   "cell_type": "code",
   "execution_count": 18,
   "id": "034b45c4",
   "metadata": {},
   "outputs": [
    {
     "data": {
      "text/plain": [
       "F_onewayResult(statistic=4.835102452760835, pvalue=0.003917714201604294)"
      ]
     },
     "execution_count": 18,
     "metadata": {},
     "output_type": "execute_result"
    }
   ],
   "source": [
    "f_oneway(sample_1,sample_2,sample_3,sample_4)\n"
   ]
  },
  {
   "cell_type": "markdown",
   "id": "fcadde74",
   "metadata": {},
   "source": [
    "# Z test"
   ]
  },
  {
   "cell_type": "code",
   "execution_count": 20,
   "id": "0df04f73",
   "metadata": {},
   "outputs": [],
   "source": [
    "from random import sample, choices\n",
    "from statsmodels.stats.weightstats import ztest\n",
    "\n",
    "sample = sample(range(30, 80), 50)"
   ]
  },
  {
   "cell_type": "code",
   "execution_count": 21,
   "id": "66190bd4",
   "metadata": {},
   "outputs": [
    {
     "data": {
      "text/plain": [
       "(-0.24253562503633297, 0.8083651559145103)"
      ]
     },
     "execution_count": 21,
     "metadata": {},
     "output_type": "execute_result"
    }
   ],
   "source": [
    "ztest(sample, value=55)"
   ]
  },
  {
   "cell_type": "markdown",
   "id": "63ec02cb",
   "metadata": {},
   "source": [
    "# Chi Square test"
   ]
  },
  {
   "cell_type": "code",
   "execution_count": 22,
   "id": "3c0047e2",
   "metadata": {},
   "outputs": [],
   "source": [
    "import numpy as np\n",
    "from scipy.stats import chi2_contingency\n",
    "\n",
    "# Create two made-up categorical features\n",
    "feature1 = np.random.choice(['A', 'B', 'C'], size=100)\n",
    "feature2 = np.random.choice(['X', 'Y', 'Z'], size=100)\n"
   ]
  },
  {
   "cell_type": "code",
   "execution_count": 23,
   "id": "bb38ddd7",
   "metadata": {},
   "outputs": [
    {
     "data": {
      "text/plain": [
       "array(['A', 'C', 'B', 'A', 'B', 'C', 'B', 'B', 'B', 'C', 'C', 'A', 'C',\n",
       "       'A', 'B', 'A', 'A', 'A', 'C', 'A', 'B', 'A', 'B', 'C', 'A', 'A',\n",
       "       'C', 'A', 'C', 'C', 'B', 'B', 'B', 'C', 'B', 'A', 'C', 'A', 'C',\n",
       "       'C', 'A', 'A', 'A', 'C', 'B', 'A', 'C', 'A', 'B', 'B', 'A', 'B',\n",
       "       'B', 'C', 'A', 'C', 'B', 'C', 'A', 'C', 'C', 'A', 'A', 'A', 'B',\n",
       "       'C', 'C', 'C', 'C', 'C', 'A', 'C', 'C', 'C', 'A', 'B', 'B', 'C',\n",
       "       'C', 'C', 'A', 'B', 'B', 'C', 'A', 'B', 'A', 'A', 'A', 'A', 'B',\n",
       "       'B', 'B', 'B', 'A', 'C', 'B', 'B', 'A', 'B'], dtype='<U1')"
      ]
     },
     "execution_count": 23,
     "metadata": {},
     "output_type": "execute_result"
    }
   ],
   "source": [
    "feature1"
   ]
  },
  {
   "cell_type": "code",
   "execution_count": 24,
   "id": "2f44d296",
   "metadata": {},
   "outputs": [
    {
     "data": {
      "text/plain": [
       "array(['Y', 'Z', 'X', 'Y', 'X', 'X', 'Z', 'X', 'Z', 'Z', 'Y', 'X', 'X',\n",
       "       'Y', 'Z', 'X', 'Y', 'Y', 'Y', 'Y', 'Z', 'X', 'Y', 'Z', 'Z', 'Y',\n",
       "       'Y', 'Z', 'Z', 'Z', 'X', 'Z', 'Z', 'Y', 'Z', 'Y', 'X', 'X', 'X',\n",
       "       'X', 'Z', 'Z', 'X', 'X', 'Z', 'Z', 'Y', 'Z', 'X', 'Y', 'Y', 'X',\n",
       "       'X', 'Y', 'X', 'Z', 'X', 'Y', 'X', 'Y', 'X', 'Y', 'Z', 'Z', 'X',\n",
       "       'Z', 'X', 'Z', 'Z', 'Z', 'Y', 'Y', 'Z', 'X', 'Y', 'X', 'Z', 'Z',\n",
       "       'Z', 'Y', 'Y', 'X', 'Z', 'X', 'X', 'X', 'X', 'Y', 'Z', 'Y', 'Y',\n",
       "       'Y', 'Z', 'X', 'X', 'Z', 'X', 'Y', 'Y', 'Z'], dtype='<U1')"
      ]
     },
     "execution_count": 24,
     "metadata": {},
     "output_type": "execute_result"
    }
   ],
   "source": [
    "feature2"
   ]
  },
  {
   "cell_type": "code",
   "execution_count": 25,
   "id": "e8a6700b",
   "metadata": {},
   "outputs": [
    {
     "data": {
      "text/plain": [
       "array([[10, 16,  9],\n",
       "       [14,  5, 12],\n",
       "       [10, 10, 14]])"
      ]
     },
     "execution_count": 25,
     "metadata": {},
     "output_type": "execute_result"
    }
   ],
   "source": [
    "# Create a contingency table\n",
    "contingency_table = np.array([[np.sum((feature1 == 'A') & (feature2 == 'X')),\n",
    "                               np.sum((feature1 == 'A') & (feature2 == 'Y')),\n",
    "                               np.sum((feature1 == 'A') & (feature2 == 'Z'))],\n",
    "                              [np.sum((feature1 == 'B') & (feature2 == 'X')),\n",
    "                               np.sum((feature1 == 'B') & (feature2 == 'Y')),\n",
    "                               np.sum((feature1 == 'B') & (feature2 == 'Z'))],\n",
    "                              [np.sum((feature1 == 'C') & (feature2 == 'X')),\n",
    "                               np.sum((feature1 == 'C') & (feature2 == 'Y')),\n",
    "                               np.sum((feature1 == 'C') & (feature2 == 'Z'))]])\n",
    "contingency_table"
   ]
  },
  {
   "cell_type": "code",
   "execution_count": 26,
   "id": "b7bb8e6c",
   "metadata": {},
   "outputs": [
    {
     "name": "stdout",
     "output_type": "stream",
     "text": [
      "Chi-squared value: 7.688021232855021\n",
      "P-value: 0.1036985030674001\n",
      "Degrees of freedom: 4\n",
      "Expected frequencies table:\n",
      "[[11.9  10.85 12.25]\n",
      " [10.54  9.61 10.85]\n",
      " [11.56 10.54 11.9 ]]\n"
     ]
    }
   ],
   "source": [
    "\n",
    "# Conduct the chi-squared test\n",
    "chi2, p, dof, expected = chi2_contingency(contingency_table)\n",
    "\n",
    "# Display the results\n",
    "print(\"Chi-squared value:\", chi2)\n",
    "print(\"P-value:\", p)\n",
    "print(\"Degrees of freedom:\", dof)\n",
    "print(\"Expected frequencies table:\")\n",
    "print(expected)\n"
   ]
  },
  {
   "cell_type": "code",
   "execution_count": null,
   "id": "82afcd3d",
   "metadata": {},
   "outputs": [],
   "source": []
  }
 ],
 "metadata": {
  "kernelspec": {
   "display_name": "Python 3 (ipykernel)",
   "language": "python",
   "name": "python3"
  },
  "language_info": {
   "codemirror_mode": {
    "name": "ipython",
    "version": 3
   },
   "file_extension": ".py",
   "mimetype": "text/x-python",
   "name": "python",
   "nbconvert_exporter": "python",
   "pygments_lexer": "ipython3",
   "version": "3.11.5"
  }
 },
 "nbformat": 4,
 "nbformat_minor": 5
}
