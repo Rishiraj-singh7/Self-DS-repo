{
 "cells": [
  {
   "cell_type": "code",
   "execution_count": 1,
   "id": "990c6c6e",
   "metadata": {},
   "outputs": [
    {
     "name": "stdout",
     "output_type": "stream",
     "text": [
      "Hello World\n"
     ]
    }
   ],
   "source": [
    "# python day 1 baiscs\n",
    "\n",
    "# python : object orinted programming language-follow classes and objects concept\n",
    "# python is dyanamically typed, intereted language\n",
    "\n",
    "# interpreted language - code execute line by line\n",
    "# compiled language - code executes whole code together\n",
    "\n",
    "# dynamically typed language- don't required spoon feeding  --  name = 'rohitt'\n",
    "# statically typed language-  required every detail and data type in variable --  name (varchar (50)) = 'rohitt'\n",
    "\n",
    "# use? Web development, server side scripting, backend, mathematics, data analysis\n",
    "\n",
    "# why? syntax is very easy\n",
    "\n",
    "print('Hello World')\n",
    " # for commenting together    ctrl + (?)\n",
    " # for run   shift + enter"
   ]
  },
  {
   "cell_type": "code",
   "execution_count": 3,
   "id": "0212d991",
   "metadata": {},
   "outputs": [
    {
     "name": "stdout",
     "output_type": "stream",
     "text": [
      "10\n",
      "20\n",
      "20\n",
      "10 20 30\n"
     ]
    }
   ],
   "source": [
    "# variables : containers for your data\n",
    "\n",
    "x=10   #x,y,z are variables\n",
    "y=20\n",
    "z=30\n",
    "\n",
    "print(x)\n",
    "print(y)\n",
    "print(y)\n",
    "print(x,y,z)"
   ]
  },
  {
   "cell_type": "code",
   "execution_count": 6,
   "id": "06730f13",
   "metadata": {},
   "outputs": [
    {
     "name": "stdout",
     "output_type": "stream",
     "text": [
      "10\n",
      "20\n",
      "20\n",
      "10 20 Python\n"
     ]
    }
   ],
   "source": [
    "#multiple Assignment of variable:\n",
    "\n",
    "x,y,z = 10,20,'Python'\n",
    "print(x)\n",
    "print(y)\n",
    "print(y)\n",
    "print(x,y,z)"
   ]
  },
  {
   "cell_type": "code",
   "execution_count": 7,
   "id": "b9426c54",
   "metadata": {},
   "outputs": [
    {
     "name": "stdout",
     "output_type": "stream",
     "text": [
      "34\n",
      "34\n"
     ]
    }
   ],
   "source": [
    "# num1,num2 = 34\n",
    "num1 = num2 = 34\n",
    "print(num1)\n",
    "print(num2)"
   ]
  },
  {
   "cell_type": "code",
   "execution_count": 8,
   "id": "1235265e",
   "metadata": {},
   "outputs": [],
   "source": [
    "# rules to give variable names:\n",
    "\n",
    "# 1. variable name shall only start with an alphabet or _\n",
    "\n",
    "# 2. lower and upper case letter are diffrently treated (case sensitive)\n",
    "\n",
    "# 3. no special charater or number just alphabates and _underscore"
   ]
  },
  {
   "cell_type": "code",
   "execution_count": 9,
   "id": "90df198b",
   "metadata": {},
   "outputs": [
    {
     "name": "stdout",
     "output_type": "stream",
     "text": [
      "<class 'int'>\n",
      "<class 'float'>\n",
      "<class 'str'>\n"
     ]
    }
   ],
   "source": [
    "# Data types : type of data stored in the variable\n",
    "\n",
    "a = 89                     # -> int\n",
    "b = 2.2                    # -> float\n",
    "c= 'String hereeee'      # -> str\n",
    "\n",
    "print(type(a))\n",
    "print(type(b))\n",
    "print(type(c))"
   ]
  },
  {
   "cell_type": "code",
   "execution_count": 13,
   "id": "edd3f1e3",
   "metadata": {},
   "outputs": [
    {
     "name": "stdout",
     "output_type": "stream",
     "text": [
      "2\n",
      "3.3\n",
      "(9+8j)\n",
      "<class 'int'>\n",
      "<class 'float'>\n",
      "<class 'complex'>\n",
      "2.0\n",
      "3\n",
      "(2+0j)\n",
      "(3.3+0j)\n"
     ]
    }
   ],
   "source": [
    "# All Data types in python\n",
    "# numeric : int, float, complex\n",
    "#sequence : list, tuple, dict ,set\n",
    "#boolean : true/false\n",
    "# text : string\n",
    "\n",
    "#numeric data type\n",
    "\n",
    "# int : any number\n",
    "# float : decimal number\n",
    "# complex : number with real+imaginary part (4+3j)\n",
    "\n",
    "a_int = 2\n",
    "b_float= 3.3\n",
    "c_complex = 9+8j\n",
    "\n",
    "print(a_int)\n",
    "print(b_float)\n",
    "print(c_complex)\n",
    "\n",
    "print(type(a_int))\n",
    "print(type(b_float))\n",
    "print(type(c_complex))\n",
    "\n",
    "\n",
    "# conversion of datatypes: type casting\n",
    "\n",
    "\n",
    "# coversting int to float\n",
    "afloat =float(a_int)\n",
    "print(afloat)\n",
    "\n",
    "# covert float to int\n",
    "bint = int(b_float)\n",
    "print(bint)\n",
    "\n",
    "# covert int to complex\n",
    "print(complex(a_int))\n",
    "# convert float to complex\n",
    "print(complex(b_float))\n",
    "\n",
    "\n",
    "\n",
    "# covert complex to int\n",
    "#print(int(ccomplec))  -> cannot convert\n",
    "# convert complex to float\n",
    "#print(float(ccomplex))  -> cannot convert\n"
   ]
  },
  {
   "cell_type": "code",
   "execution_count": 14,
   "id": "016af600",
   "metadata": {},
   "outputs": [
    {
     "name": "stdout",
     "output_type": "stream",
     "text": [
      "(2+4j)\n",
      "(3.3+23j)\n"
     ]
    }
   ],
   "source": [
    "# passing a value for imaginary part\n",
    "print(complex(a_int,4))\n",
    "print(complex(b_float, 23))"
   ]
  },
  {
   "cell_type": "code",
   "execution_count": 15,
   "id": "7c08ff67",
   "metadata": {},
   "outputs": [
    {
     "name": "stdout",
     "output_type": "stream",
     "text": [
      "90\n"
     ]
    }
   ],
   "source": [
    "#recent assignment is considered\n",
    "\n",
    "var1 = 70\n",
    "var1 = 90\n",
    "\n",
    "print(var1)"
   ]
  },
  {
   "cell_type": "code",
   "execution_count": null,
   "id": "b9d36d93",
   "metadata": {},
   "outputs": [],
   "source": []
  }
 ],
 "metadata": {
  "kernelspec": {
   "display_name": "Python 3 (ipykernel)",
   "language": "python",
   "name": "python3"
  },
  "language_info": {
   "codemirror_mode": {
    "name": "ipython",
    "version": 3
   },
   "file_extension": ".py",
   "mimetype": "text/x-python",
   "name": "python",
   "nbconvert_exporter": "python",
   "pygments_lexer": "ipython3",
   "version": "3.11.5"
  }
 },
 "nbformat": 4,
 "nbformat_minor": 5
}
