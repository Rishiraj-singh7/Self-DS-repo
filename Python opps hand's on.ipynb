{
 "cells": [
  {
   "cell_type": "code",
   "execution_count": 7,
   "id": "11fa3286",
   "metadata": {},
   "outputs": [
    {
     "name": "stdout",
     "output_type": "stream",
     "text": [
      "9\n",
      "12\n"
     ]
    }
   ],
   "source": [
    "class Poly:\n",
    " def add(self,x,y):\n",
    "        print(x+y)\n",
    "        \n",
    " def add(self,x,y,z):\n",
    "        print(x+y+z)\n",
    "        \n",
    "obj=Poly()\n",
    "obj.add(2,3,4)\n",
    "obj.add(2,4,6)"
   ]
  },
  {
   "cell_type": "code",
   "execution_count": 13,
   "id": "292dc6d9",
   "metadata": {},
   "outputs": [
    {
     "name": "stdout",
     "output_type": "stream",
     "text": [
      "Enter a number: 77\n",
      "negative number\n"
     ]
    }
   ],
   "source": [
    "#OOPS HANDSON\n",
    "\n",
    "#question-1: check if the number is negative, positive or zero\n",
    "\n",
    "# ask user for input of a number,\n",
    "# check on different conditions if number is greater than 0-> positive number\n",
    "# check on different conditions if number is less than 0-> negative number\n",
    "# check on different conditions if number is 0-> zero\n",
    "\n",
    "class Check:\n",
    "    def __init__(self,num):\n",
    "        self.num=num\n",
    "        \n",
    "    def func(self):\n",
    "        if self.num < 0:\n",
    "           print('positive n umber')\n",
    "        elif self.num == 0:\n",
    "           print('zero')\n",
    "        else:\n",
    "           print('negative number')\n",
    "        \n",
    "num=int(input('Enter a number: '))\n",
    "\n",
    "obj=Check(num)\n",
    "obj.func()\n"
   ]
  },
  {
   "cell_type": "code",
   "execution_count": 16,
   "id": "13a8097c",
   "metadata": {},
   "outputs": [
    {
     "name": "stdout",
     "output_type": "stream",
     "text": [
      "enter name here: yyy\n",
      "enter the value here: 7\n",
      "name: yyy and id: 7\n"
     ]
    }
   ],
   "source": [
    "#make a class Employee, take user input of name and id, pass it in class, print it using obj of class\n",
    "#make class Emp, make data members name and id, print their values\n",
    "\n",
    "class Emnployee:\n",
    "    def __init__(self,name,Id):\n",
    "        self.name=name\n",
    "        self.Id=Id\n",
    "        \n",
    "    def printval(self):\n",
    "        print(f'name: {self.name} and id: {self.Id}')\n",
    "        \n",
    "empname = input('enter name here: ')\n",
    "empid = int(input('enter the value here: '))\n",
    "\n",
    "obj=Emnployee(empname,empid)\n",
    "obj.printval()\n"
   ]
  },
  {
   "cell_type": "code",
   "execution_count": 18,
   "id": "549a55aa",
   "metadata": {},
   "outputs": [
    {
     "name": "stdout",
     "output_type": "stream",
     "text": [
      "enter name here: vroom\n",
      "enter the value here: 89\n",
      "name: vroom and id: 89\n"
     ]
    }
   ],
   "source": [
    "#using __str__ function : returns us string value\n",
    "#in-built : type, append, pop.... (cannot change their functionality)\n",
    "#user-defined : defined by you\n",
    "\n",
    "#can only return string values\n",
    "\n",
    "class Emnployee:\n",
    "    def __init__(self,name,Id):\n",
    "        self.name=name\n",
    "        self.Id=Id\n",
    "        \n",
    "    def __str__(self):     # __str__ func use to print string only\n",
    "        return f'name: {self.name} and id: {self.Id}'\n",
    "        \n",
    "empname = input('enter name here: ')\n",
    "empid = int(input('enter the value here: '))\n",
    "\n",
    "obj=Emnployee(empname,empid)\n",
    "print(obj)  #directly do to __str__ function and print the retured value"
   ]
  },
  {
   "cell_type": "code",
   "execution_count": 21,
   "id": "ea59b8bd",
   "metadata": {},
   "outputs": [
    {
     "name": "stdout",
     "output_type": "stream",
     "text": [
      "hi i am str function\n",
      "hi i am printd function\n"
     ]
    }
   ],
   "source": [
    "# DIFF BTW STR FUNC OR PRINT FUNC\n",
    "\n",
    "class Ex:\n",
    "  def __str__(self): #in built function\n",
    "    return 'hi i am str function'\n",
    "\n",
    "  def printd(self): #user defined function\n",
    "    return 'hi i am printd function'\n",
    "\n",
    "obj=Ex()   #->call __init__ function\n",
    "print(obj)   #->call __str__ function\n",
    "# print(obj.__str__) #no need to do this\n",
    "print(obj.printd())"
   ]
  },
  {
   "cell_type": "code",
   "execution_count": 22,
   "id": "5edda834",
   "metadata": {},
   "outputs": [
    {
     "name": "stdout",
     "output_type": "stream",
     "text": [
      "anita,arya\n"
     ]
    }
   ],
   "source": [
    "class names:\n",
    "    def __init__(self,name1,name2):\n",
    "        self.name1=name1\n",
    "        self.name2=name2\n",
    "        \n",
    "    def __str__(self):\n",
    "        return f'{self.name1},{self.name2}'\n",
    "    \n",
    "obj=names('anita','arya')\n",
    "print(obj)"
   ]
  },
  {
   "cell_type": "code",
   "execution_count": 26,
   "id": "08114a9f",
   "metadata": {},
   "outputs": [
    {
     "name": "stdout",
     "output_type": "stream",
     "text": [
      "10\n"
     ]
    }
   ],
   "source": [
    "# make parent class, make a data member inside it,\n",
    "# make a child class that inherits parent class, using object of child, print that data member value\n",
    "\n",
    "class Parent:\n",
    "    def __init__(self,var):\n",
    "        self.var=10\n",
    "\n",
    "        \n",
    "class Child(Parent):\n",
    "    def __init__(self,var):\n",
    "      super().__init__(var)\n",
    "\n",
    "    \n",
    "obj=Child(20)\n",
    "print(obj.var)\n",
    "    "
   ]
  },
  {
   "cell_type": "code",
   "execution_count": 29,
   "id": "caab8e57",
   "metadata": {},
   "outputs": [
    {
     "name": "stdout",
     "output_type": "stream",
     "text": [
      "enter a value please: chandu chacha 77\n",
      "chandu chacha 77\n"
     ]
    }
   ],
   "source": [
    "#make a class, input a value from user inside the method of class, make another method that prints that value\n",
    "#call function that takes input and returns value, inside message function(prints that value)\n",
    "\n",
    "class Example:\n",
    "  def func(self):\n",
    "    val= input('enter a value please: ') #3.take input\n",
    "    return val #4.return input\n",
    "\n",
    "  def message(self):\n",
    "    return self.func() #2.go to func() #5.return value\n",
    "\n",
    "obj=Example()\n",
    "print(obj.message()) #1.go to message #6. print value"
   ]
  },
  {
   "cell_type": "code",
   "execution_count": null,
   "id": "62c863a4",
   "metadata": {},
   "outputs": [],
   "source": []
  }
 ],
 "metadata": {
  "kernelspec": {
   "display_name": "Python 3 (ipykernel)",
   "language": "python",
   "name": "python3"
  },
  "language_info": {
   "codemirror_mode": {
    "name": "ipython",
    "version": 3
   },
   "file_extension": ".py",
   "mimetype": "text/x-python",
   "name": "python",
   "nbconvert_exporter": "python",
   "pygments_lexer": "ipython3",
   "version": "3.11.5"
  }
 },
 "nbformat": 4,
 "nbformat_minor": 5
}
