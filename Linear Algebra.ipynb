{
 "cells": [
  {
   "cell_type": "code",
   "execution_count": 2,
   "id": "f01242e3",
   "metadata": {},
   "outputs": [],
   "source": [
    "import numpy as np"
   ]
  },
  {
   "cell_type": "code",
   "execution_count": 3,
   "id": "7307d874",
   "metadata": {},
   "outputs": [
    {
     "data": {
      "text/plain": [
       "array([[7, 4],\n",
       "       [5, 3]])"
      ]
     },
     "execution_count": 3,
     "metadata": {},
     "output_type": "execute_result"
    }
   ],
   "source": [
    "a = np.array([[7,4],\n",
    "              [5,3]])\n",
    "a"
   ]
  },
  {
   "cell_type": "code",
   "execution_count": 4,
   "id": "2f3603d2",
   "metadata": {},
   "outputs": [
    {
     "data": {
      "text/plain": [
       "array([655, 475])"
      ]
     },
     "execution_count": 4,
     "metadata": {},
     "output_type": "execute_result"
    }
   ],
   "source": [
    "b = np.array([655,475])\n",
    "b"
   ]
  },
  {
   "cell_type": "code",
   "execution_count": 5,
   "id": "61010012",
   "metadata": {},
   "outputs": [],
   "source": [
    "from numpy.linalg import inv"
   ]
  },
  {
   "cell_type": "code",
   "execution_count": 6,
   "id": "a293e53d",
   "metadata": {},
   "outputs": [
    {
     "data": {
      "text/plain": [
       "array([[ 3., -4.],\n",
       "       [-5.,  7.]])"
      ]
     },
     "execution_count": 6,
     "metadata": {},
     "output_type": "execute_result"
    }
   ],
   "source": [
    "a_inverse =inv(a)\n",
    "inv(a)"
   ]
  },
  {
   "cell_type": "code",
   "execution_count": 7,
   "id": "e629b87c",
   "metadata": {},
   "outputs": [
    {
     "data": {
      "text/plain": [
       "array([65., 50.])"
      ]
     },
     "execution_count": 7,
     "metadata": {},
     "output_type": "execute_result"
    }
   ],
   "source": [
    "np.dot(a_inverse,b)"
   ]
  },
  {
   "cell_type": "code",
   "execution_count": null,
   "id": "5ba6a7d3",
   "metadata": {},
   "outputs": [],
   "source": [
    "# for linear algebra question degree need to one"
   ]
  },
  {
   "cell_type": "code",
   "execution_count": 1,
   "id": "4bfe4f1e",
   "metadata": {},
   "outputs": [],
   "source": [
    "# A.x = B ,\n",
    "# x = A(inv).B\n",
    "\n",
    "# A(inv) = 1/A (Flase)\n",
    "# A(inv) = 1/|A|. adj(A) (True)\n",
    "# |A| = Determinent of A\n",
    "# adj(a) = Adjoint of A"
   ]
  },
  {
   "cell_type": "code",
   "execution_count": 2,
   "id": "cbafc45f",
   "metadata": {},
   "outputs": [],
   "source": [
    "# Determinent of 2-D matrix\n",
    "\n",
    "# 1 1  = (1*7)-(1*4)    =>  7-4  => 3\n",
    "# 4 7\n",
    "\n",
    "# Determinent of 3-D matrix\n",
    "\n",
    "# 2 5 8\n",
    "# 1 4 3 = +2(4*4 - 3*2)  -5(4*1 - 8*3)  +8(2*1 - 8*4)  =>  2(16-6) -5(4-24)  +8(2-32)  => 2(10) -5(-20) +8(-30)\n",
    "# 8 2 4             => 20 + 100 - 240   => -120\n",
    "\n",
    "#Determinent is calculated on sqr matrix"
   ]
  },
  {
   "cell_type": "markdown",
   "id": "45c79601",
   "metadata": {},
   "source": [
    "# Determinent of Matrix"
   ]
  },
  {
   "cell_type": "code",
   "execution_count": 3,
   "id": "a975c1f2",
   "metadata": {},
   "outputs": [],
   "source": [
    "import numpy as np\n",
    "from numpy.linalg import det"
   ]
  },
  {
   "cell_type": "code",
   "execution_count": 5,
   "id": "ebb9f217",
   "metadata": {},
   "outputs": [
    {
     "data": {
      "text/plain": [
       "array([[2, 3, 1],\n",
       "       [1, 2, 3],\n",
       "       [4, 2, 6]])"
      ]
     },
     "execution_count": 5,
     "metadata": {},
     "output_type": "execute_result"
    }
   ],
   "source": [
    "A = np.array([[2,3,1],\n",
    "              [1,2,3],\n",
    "              [4,2,6]])\n",
    "A"
   ]
  },
  {
   "cell_type": "code",
   "execution_count": 8,
   "id": "0c42fb08",
   "metadata": {},
   "outputs": [
    {
     "data": {
      "text/plain": [
       "23.999999999999993"
      ]
     },
     "execution_count": 8,
     "metadata": {},
     "output_type": "execute_result"
    }
   ],
   "source": [
    "det(A) #this will find the Determinent of matrix A"
   ]
  },
  {
   "cell_type": "markdown",
   "id": "0999c540",
   "metadata": {},
   "source": [
    "# Inverse of the Matrix"
   ]
  },
  {
   "cell_type": "code",
   "execution_count": 9,
   "id": "31c9b855",
   "metadata": {},
   "outputs": [],
   "source": [
    "from numpy.linalg import inv"
   ]
  },
  {
   "cell_type": "code",
   "execution_count": 10,
   "id": "5bcafa64",
   "metadata": {},
   "outputs": [
    {
     "data": {
      "text/plain": [
       "array([[ 0.25      , -0.66666667,  0.29166667],\n",
       "       [ 0.25      ,  0.33333333, -0.20833333],\n",
       "       [-0.25      ,  0.33333333,  0.04166667]])"
      ]
     },
     "execution_count": 10,
     "metadata": {},
     "output_type": "execute_result"
    }
   ],
   "source": [
    "inv(A)"
   ]
  },
  {
   "cell_type": "code",
   "execution_count": 13,
   "id": "beb06c89",
   "metadata": {},
   "outputs": [
    {
     "data": {
      "text/plain": [
       "array([[2, 3],\n",
       "       [1, 2]])"
      ]
     },
     "execution_count": 13,
     "metadata": {},
     "output_type": "execute_result"
    }
   ],
   "source": [
    "C = np.array([[2,3],\n",
    "              [1,2]])\n",
    "C"
   ]
  },
  {
   "cell_type": "code",
   "execution_count": 16,
   "id": "a81e9e4f",
   "metadata": {},
   "outputs": [
    {
     "data": {
      "text/plain": [
       "array([[ 2., -3.],\n",
       "       [-1.,  2.]])"
      ]
     },
     "execution_count": 16,
     "metadata": {},
     "output_type": "execute_result"
    }
   ],
   "source": [
    "C_inv= inv(C) #this inc function conpute the inverse matrix\n",
    "C_inv"
   ]
  },
  {
   "cell_type": "code",
   "execution_count": null,
   "id": "5fad8b93",
   "metadata": {},
   "outputs": [],
   "source": [
    "# element wise matrix addition\n",
    "\n",
    "#    2 4  +  3 6   =   5 10\n",
    "#    6 1     1 2       7 3"
   ]
  },
  {
   "cell_type": "code",
   "execution_count": 17,
   "id": "e28ba2ce",
   "metadata": {},
   "outputs": [],
   "source": [
    "# element wise Matrix Subtraction\n",
    "\n",
    "#    2 4  -  3 6   =   -1 -2\n",
    "#    6 1     1 2        5 -1"
   ]
  },
  {
   "cell_type": "code",
   "execution_count": 10,
   "id": "f1442547",
   "metadata": {},
   "outputs": [],
   "source": [
    "F = np.array([[8,3],\n",
    "              [4,2]])\n",
    "G = np.array([[7,3],\n",
    "              [5,1]])"
   ]
  },
  {
   "cell_type": "code",
   "execution_count": 11,
   "id": "18876b93",
   "metadata": {},
   "outputs": [
    {
     "data": {
      "text/plain": [
       "array([[15,  6],\n",
       "       [ 9,  3]])"
      ]
     },
     "execution_count": 11,
     "metadata": {},
     "output_type": "execute_result"
    }
   ],
   "source": [
    "F+G"
   ]
  },
  {
   "cell_type": "code",
   "execution_count": 12,
   "id": "08f864f5",
   "metadata": {},
   "outputs": [
    {
     "data": {
      "text/plain": [
       "array([[ 1,  0],\n",
       "       [-1,  1]])"
      ]
     },
     "execution_count": 12,
     "metadata": {},
     "output_type": "execute_result"
    }
   ],
   "source": [
    "F-G"
   ]
  },
  {
   "cell_type": "markdown",
   "id": "5447250e",
   "metadata": {},
   "source": [
    "# Matrix Multiplication (element wise)"
   ]
  },
  {
   "cell_type": "code",
   "execution_count": 14,
   "id": "2d8b3034",
   "metadata": {},
   "outputs": [
    {
     "data": {
      "text/plain": [
       "array([[ 2,  3],\n",
       "       [10,  2]])"
      ]
     },
     "execution_count": 14,
     "metadata": {},
     "output_type": "execute_result"
    }
   ],
   "source": [
    "A = np.array([[1,3],\n",
    "              [2,2]])\n",
    "B = np.array([[2,1],\n",
    "              [5,1]])\n",
    "A*B"
   ]
  },
  {
   "cell_type": "markdown",
   "id": "1718a027",
   "metadata": {},
   "source": [
    "# Matrix Multiplication (Dot Product)"
   ]
  },
  {
   "cell_type": "code",
   "execution_count": 15,
   "id": "254ce506",
   "metadata": {},
   "outputs": [
    {
     "data": {
      "text/plain": [
       "array([[17,  4],\n",
       "       [14,  4]])"
      ]
     },
     "execution_count": 15,
     "metadata": {},
     "output_type": "execute_result"
    }
   ],
   "source": [
    "np.dot(A,B)"
   ]
  },
  {
   "cell_type": "code",
   "execution_count": 16,
   "id": "6af5d180",
   "metadata": {},
   "outputs": [],
   "source": [
    "# Matrix A      Matrix B\n",
    "# 2  1           3  2\n",
    "# 3  2           2  4\n",
    "\n",
    "# element wise    6  2\n",
    "#                 6  8\n",
    "    \n",
    "# Dot product  2*3 + 1*2            2*2 + 1*4           =>    6+2   4+4           =>  8  8\n",
    "#              3*3 + 2*2            3*3 + 2*4                 9+4   9+8               13 17"
   ]
  },
  {
   "cell_type": "markdown",
   "id": "301badf1",
   "metadata": {},
   "source": [
    "# Solution to system of linear equation\n",
    "\n",
    "1. find the inverse a\n",
    "2. product of inverse_a * b"
   ]
  },
  {
   "cell_type": "code",
   "execution_count": 29,
   "id": "7d48333e",
   "metadata": {},
   "outputs": [],
   "source": [
    "A = np.array([[5,3],\n",
    "              [7,4]])\n",
    "B = np.array([475,655])"
   ]
  },
  {
   "cell_type": "code",
   "execution_count": 30,
   "id": "a31d62c7",
   "metadata": {},
   "outputs": [
    {
     "data": {
      "text/plain": [
       "array([[5, 3],\n",
       "       [7, 4]])"
      ]
     },
     "execution_count": 30,
     "metadata": {},
     "output_type": "execute_result"
    }
   ],
   "source": [
    "A"
   ]
  },
  {
   "cell_type": "code",
   "execution_count": 31,
   "id": "b06dbbda",
   "metadata": {},
   "outputs": [
    {
     "data": {
      "text/plain": [
       "array([475, 655])"
      ]
     },
     "execution_count": 31,
     "metadata": {},
     "output_type": "execute_result"
    }
   ],
   "source": [
    "B"
   ]
  },
  {
   "cell_type": "code",
   "execution_count": 32,
   "id": "b6e3b010",
   "metadata": {},
   "outputs": [
    {
     "data": {
      "text/plain": [
       "array([[-4.,  3.],\n",
       "       [ 7., -5.]])"
      ]
     },
     "execution_count": 32,
     "metadata": {},
     "output_type": "execute_result"
    }
   ],
   "source": [
    "A_inv = inv(A)\n",
    "A_inv"
   ]
  },
  {
   "cell_type": "code",
   "execution_count": 33,
   "id": "c72d1ac6",
   "metadata": {},
   "outputs": [
    {
     "data": {
      "text/plain": [
       "array([65., 50.])"
      ]
     },
     "execution_count": 33,
     "metadata": {},
     "output_type": "execute_result"
    }
   ],
   "source": [
    "np.dot(A_inv,B)"
   ]
  },
  {
   "cell_type": "code",
   "execution_count": 35,
   "id": "1d775d69",
   "metadata": {},
   "outputs": [
    {
     "data": {
      "text/plain": [
       "array([ 2685., -1850.])"
      ]
     },
     "execution_count": 35,
     "metadata": {},
     "output_type": "execute_result"
    }
   ],
   "source": [
    "np.dot(B,A_inv) #This is the wrong solu bcz we switch the oprands"
   ]
  },
  {
   "cell_type": "code",
   "execution_count": null,
   "id": "8c80cce8",
   "metadata": {},
   "outputs": [],
   "source": []
  }
 ],
 "metadata": {
  "kernelspec": {
   "display_name": "Python 3 (ipykernel)",
   "language": "python",
   "name": "python3"
  },
  "language_info": {
   "codemirror_mode": {
    "name": "ipython",
    "version": 3
   },
   "file_extension": ".py",
   "mimetype": "text/x-python",
   "name": "python",
   "nbconvert_exporter": "python",
   "pygments_lexer": "ipython3",
   "version": "3.11.5"
  }
 },
 "nbformat": 4,
 "nbformat_minor": 5
}
