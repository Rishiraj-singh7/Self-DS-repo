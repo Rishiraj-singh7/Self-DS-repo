{
 "cells": [
  {
   "cell_type": "code",
   "execution_count": 1,
   "id": "e8d96aaf",
   "metadata": {},
   "outputs": [
    {
     "name": "stdout",
     "output_type": "stream",
     "text": [
      "20\n"
     ]
    }
   ],
   "source": [
    "#operators in python:used to perform operations on variables and values\n",
    "#arithmetic\n",
    "#assignment\n",
    "#comparison\n",
    "#logical\n",
    "#membership\n",
    "#identity\n",
    "\n",
    "4+5\n",
    "\n",
    "var1=23\n",
    "var2=3\n",
    "\n",
    "print(var1-var2)"
   ]
  },
  {
   "cell_type": "code",
   "execution_count": 2,
   "id": "592ca57d",
   "metadata": {},
   "outputs": [
    {
     "name": "stdout",
     "output_type": "stream",
     "text": [
      "13\n",
      "7\n",
      "30\n",
      "3.3333333333333335\n",
      "1\n",
      "1000\n"
     ]
    }
   ],
   "source": [
    "#arithmetic operator: to perform mathematical calculations like +,-,*,/,%,**,//\n",
    "\n",
    "x=10\n",
    "y=3\n",
    "\n",
    "print(x+y)  #add\n",
    "print(x-y) #subtract\n",
    "print(x*y) #multiply\n",
    "print(x/y) #divide: float division\n",
    "print(x%y) #give remainder\n",
    "print(x**y) #exponential"
   ]
  },
  {
   "cell_type": "code",
   "execution_count": 3,
   "id": "953215f5",
   "metadata": {},
   "outputs": [
    {
     "name": "stdout",
     "output_type": "stream",
     "text": [
      "1\n"
     ]
    }
   ],
   "source": [
    "print(10%3) # -> will give remainder when i divide 10 by 3"
   ]
  },
  {
   "cell_type": "code",
   "execution_count": 4,
   "id": "20beaedf",
   "metadata": {},
   "outputs": [
    {
     "name": "stdout",
     "output_type": "stream",
     "text": [
      "3.5\n",
      "3\n"
     ]
    }
   ],
   "source": [
    "a = 21\n",
    "b = 6\n",
    "c= a/b\n",
    "d= a%b\n",
    "\n",
    "print(c)\n",
    "print(d)"
   ]
  },
  {
   "cell_type": "code",
   "execution_count": 1,
   "id": "0b7acfa9",
   "metadata": {},
   "outputs": [
    {
     "name": "stdout",
     "output_type": "stream",
     "text": [
      "3.333\n",
      "3.3333333333333335\n",
      "3\n"
     ]
    }
   ],
   "source": [
    "a = 10\n",
    "b = 3\n",
    "c = a/b\n",
    "d=format(c,'.3f')\n",
    "print(d)\n",
    "print(a/b)  #float division\n",
    "print(a//b) #int division, floor division (round of to least)\n"
   ]
  },
  {
   "cell_type": "code",
   "execution_count": 9,
   "id": "d29452ff",
   "metadata": {},
   "outputs": [
    {
     "name": "stdout",
     "output_type": "stream",
     "text": [
      "4.5\n",
      "4\n",
      "2\n"
     ]
    }
   ],
   "source": [
    "a = 18\n",
    "b = 4\n",
    "print(a/b)\n",
    "print(a//b)\n",
    "print(a%b)"
   ]
  },
  {
   "cell_type": "code",
   "execution_count": 12,
   "id": "3530682c",
   "metadata": {},
   "outputs": [
    {
     "name": "stdout",
     "output_type": "stream",
     "text": [
      "4\n"
     ]
    }
   ],
   "source": [
    "#assignment operators: =,+=,-=,*=,/=\n",
    "a=90\n",
    "b=0\n",
    "# b=b+10 : b+=10\n",
    "\n",
    "c=1\n",
    "c+=3\n",
    "print(c)"
   ]
  },
  {
   "cell_type": "code",
   "execution_count": 19,
   "id": "4a59a3d5",
   "metadata": {},
   "outputs": [
    {
     "name": "stdout",
     "output_type": "stream",
     "text": [
      "34\n",
      "30\n",
      "60\n",
      "30.0\n",
      "0.0\n"
     ]
    }
   ],
   "source": [
    "a = 30\n",
    "\n",
    "a += 4\n",
    "print(a)\n",
    "\n",
    "a -=4\n",
    "print(a)\n",
    "\n",
    "a *=2\n",
    "print(a)\n",
    "\n",
    "a /= 2\n",
    "print(a)\n",
    "\n",
    "a %= 2\n",
    "print(a)"
   ]
  },
  {
   "cell_type": "code",
   "execution_count": 20,
   "id": "c2a79672",
   "metadata": {},
   "outputs": [
    {
     "name": "stdout",
     "output_type": "stream",
     "text": [
      "False\n",
      "False\n",
      "True\n",
      "True\n"
     ]
    }
   ],
   "source": [
    "#comparison operatots: ==, >=,<=,<,>,!=\n",
    "a=90\n",
    "b=8\n",
    "\n",
    "print(a==b)\n",
    "print(a<=b)\n",
    "print(a>b)\n",
    "print(a!=b)"
   ]
  },
  {
   "cell_type": "code",
   "execution_count": 22,
   "id": "94961407",
   "metadata": {},
   "outputs": [
    {
     "name": "stdout",
     "output_type": "stream",
     "text": [
      "True\n",
      "False\n",
      "False\n"
     ]
    }
   ],
   "source": [
    "# logical operators: and, or, not\n",
    "x= 9\n",
    "print(x<10 or x>100)\n",
    "print(x<10 and x>100)\n",
    "print(not(x<10 or x>100))"
   ]
  },
  {
   "cell_type": "code",
   "execution_count": 26,
   "id": "af379e32",
   "metadata": {},
   "outputs": [
    {
     "name": "stdout",
     "output_type": "stream",
     "text": [
      "False\n",
      "True\n",
      "True\n",
      "False\n"
     ]
    }
   ],
   "source": [
    "#identity operators: is , is not\n",
    "\n",
    "x=[1,2,3]\n",
    "y=[1,2,3]\n",
    "z=x\n",
    "\n",
    "print(x in y)#will give false because memory location is not same\n",
    "print(x == y)\n",
    "print(x is z)\n",
    "print(x is not z)"
   ]
  },
  {
   "cell_type": "code",
   "execution_count": 42,
   "id": "6ae5cff0",
   "metadata": {},
   "outputs": [
    {
     "name": "stdout",
     "output_type": "stream",
     "text": [
      "True\n",
      "False\n"
     ]
    }
   ],
   "source": [
    "#membership operator:in, not in\n",
    "\n",
    "x=[1,2,3,'banana','orange']\n",
    "print('orange' in x)\n",
    "print('orange' not in x)"
   ]
  },
  {
   "cell_type": "code",
   "execution_count": 43,
   "id": "df08d122",
   "metadata": {},
   "outputs": [
    {
     "name": "stdout",
     "output_type": "stream",
     "text": [
      "you can go shopping\n",
      "please go\n"
     ]
    }
   ],
   "source": [
    "#conditional statement\n",
    "#if\n",
    "\n",
    "\n",
    "a = 10000\n",
    "if a>5000:\n",
    "    print('you can go shopping')\n",
    "    print('please go')"
   ]
  },
  {
   "cell_type": "code",
   "execution_count": 44,
   "id": "fd43b359",
   "metadata": {},
   "outputs": [
    {
     "name": "stdout",
     "output_type": "stream",
     "text": [
      "you can go shopping\n"
     ]
    }
   ],
   "source": [
    "#if - else\n",
    "\n",
    "a = 10000\n",
    "if a>5000:\n",
    "        print('you can go shopping')\n",
    "else:\n",
    "     print ('can\\'t go')"
   ]
  },
  {
   "cell_type": "code",
   "execution_count": 45,
   "id": "36157035",
   "metadata": {},
   "outputs": [
    {
     "name": "stdout",
     "output_type": "stream",
     "text": [
      "Can't go\n"
     ]
    }
   ],
   "source": [
    "#escape characters:\n",
    "print('Can\\'t go')\n"
   ]
  },
  {
   "cell_type": "code",
   "execution_count": 46,
   "id": "46e2c7f7",
   "metadata": {},
   "outputs": [
    {
     "name": "stdout",
     "output_type": "stream",
     "text": [
      "condition 2 true\n"
     ]
    }
   ],
   "source": [
    "#elif (else if)\n",
    "\n",
    "a = 20\n",
    "if a<10:\n",
    "  print('condition 1 true')\n",
    "elif a<30:\n",
    "  print('condition 2 true')\n",
    "elif a==20:\n",
    "  print('equal')\n",
    "else:\n",
    "  print('none true')\n",
    "\n",
    "\n",
    "#if one condition is true, it will execute that part and will stop there"
   ]
  },
  {
   "cell_type": "code",
   "execution_count": 47,
   "id": "44db9e9c",
   "metadata": {},
   "outputs": [
    {
     "name": "stdout",
     "output_type": "stream",
     "text": [
      "negative\n"
     ]
    }
   ],
   "source": [
    "#nested if else\n",
    "\n",
    "#1. number shall be positive\n",
    "#2. if it is positive, number shall be greater than 9 ->print true else print not greater than 9\n",
    "#3. if number is negative print negative\n",
    "a=-8\n",
    "if (a>0):\n",
    "  if (a<-7):\n",
    "    print('true')\n",
    "  else:\n",
    "    print('not greater than 9 but positive')\n",
    "else:\n",
    "  print('negative')"
   ]
  },
  {
   "cell_type": "code",
   "execution_count": 48,
   "id": "9474b28a",
   "metadata": {},
   "outputs": [
    {
     "name": "stdout",
     "output_type": "stream",
     "text": [
      "10\n",
      "9\n",
      "8\n",
      "7\n",
      "6\n",
      "5\n",
      "4\n",
      "3\n",
      "2\n",
      "1\n"
     ]
    }
   ],
   "source": [
    "#loops: while loop, for loop\n",
    "\n",
    "i=10\n",
    "while i>0:\n",
    "  print(i)\n",
    "  i-=1 #i=i-1"
   ]
  },
  {
   "cell_type": "code",
   "execution_count": 49,
   "id": "2c392749",
   "metadata": {},
   "outputs": [
    {
     "name": "stdout",
     "output_type": "stream",
     "text": [
      "equal\n"
     ]
    }
   ],
   "source": [
    "# taking input from user\n",
    "\n",
    "\n",
    "# var1=int(input('enter a number: '))\n",
    "# print(var1)\n",
    "\n",
    "var1=5\n",
    "while var1==5:\n",
    "  print('equal')\n",
    "  var1-=1 #commenting it will lead to infinite loop\n"
   ]
  },
  {
   "cell_type": "code",
   "execution_count": 56,
   "id": "737fd269",
   "metadata": {},
   "outputs": [
    {
     "name": "stdout",
     "output_type": "stream",
     "text": [
      "Item1\n",
      "Item2\n",
      "3\n",
      "4\n",
      "5\n",
      "6\n",
      "7\n",
      "8\n",
      "9\n"
     ]
    }
   ],
   "source": [
    "list1 = ['Item1', 'Item2',3,4,5,6,7,8,9]\n",
    "for x in list1:\n",
    "    print(x)\n",
    "    \n"
   ]
  },
  {
   "cell_type": "code",
   "execution_count": 57,
   "id": "291dd5a2",
   "metadata": {},
   "outputs": [
    {
     "name": "stdout",
     "output_type": "stream",
     "text": [
      "0\n",
      "1\n",
      "2\n",
      "3\n",
      "4\n",
      "5\n",
      "6\n",
      "7\n",
      "8\n",
      "9\n",
      "10\n"
     ]
    }
   ],
   "source": [
    " \n",
    "for i in range(0,11):\n",
    "    print(i)\n",
    "    \n",
    "    #range is a function that gives you a particular range(values) like for range(0,5)-> values 0,1,2,3,4"
   ]
  },
  {
   "cell_type": "code",
   "execution_count": 59,
   "id": "83355d60",
   "metadata": {},
   "outputs": [],
   "source": [
    "#function: a block of code that can be reused again and again(increases code reusability)\n",
    "\n",
    "#syntax:\n",
    "\n",
    "# def func_name():\n",
    "#   expression\n",
    "\n",
    "# func_name() #calling the function"
   ]
  },
  {
   "cell_type": "code",
   "execution_count": 61,
   "id": "0ef1ff0d",
   "metadata": {},
   "outputs": [
    {
     "name": "stdout",
     "output_type": "stream",
     "text": [
      "enter a number to check : 16\n",
      "even number\n"
     ]
    }
   ],
   "source": [
    "#to check if a number is even or odd\n",
    "#logic: anything that on division with 2 gives 0 remainder is even number and vice-versa\n",
    "\n",
    "num = int(input('enter a number to check : '))\n",
    "\n",
    "if (num%2==0):\n",
    "    print('even number')\n",
    "else:\n",
    "    print('odd number')\n",
    "  "
   ]
  },
  {
   "cell_type": "code",
   "execution_count": 62,
   "id": "a1d9c071",
   "metadata": {},
   "outputs": [
    {
     "name": "stdout",
     "output_type": "stream",
     "text": [
      "even number\n",
      "odd number\n",
      "odd number\n"
     ]
    }
   ],
   "source": [
    "#using function odd even\n",
    "\n",
    "def even_odd(num):\n",
    "  if (num%2==0):\n",
    "    print('even number')\n",
    "  else:\n",
    "    print('odd number')\n",
    "\n",
    "even_odd(46)\n",
    "even_odd(11)\n",
    "even_odd(43)"
   ]
  },
  {
   "cell_type": "code",
   "execution_count": 63,
   "id": "a9c648ee",
   "metadata": {},
   "outputs": [
    {
     "name": "stdout",
     "output_type": "stream",
     "text": [
      "Virnda Rachita\n"
     ]
    }
   ],
   "source": [
    "def printname(name1,name2):\n",
    "    print(name1,name2)\n",
    "    \n",
    "printname('Virnda', 'Rachita')"
   ]
  },
  {
   "cell_type": "code",
   "execution_count": 65,
   "id": "5662d9b2",
   "metadata": {},
   "outputs": [
    {
     "name": "stdout",
     "output_type": "stream",
     "text": [
      "Even\n"
     ]
    }
   ],
   "source": [
    "#lambda function: one line function, anonymous function\n",
    "#syntax\n",
    "# lambda argument:expression\n",
    "\n",
    "                        ### this code in one line using lambda function\n",
    "# def even_odd(num):\n",
    "#   if (num%2==0):\n",
    "#     print('even number')\n",
    "#   else:\n",
    "#     print('odd number')\n",
    "\n",
    "# even_odd(46)\n",
    "\n",
    "result = lambda x:'Even' if x%2==0 else 'odd'\n",
    "print(result(90))"
   ]
  },
  {
   "cell_type": "code",
   "execution_count": 3,
   "id": "6e1a7249",
   "metadata": {},
   "outputs": [
    {
     "name": "stdout",
     "output_type": "stream",
     "text": [
      "3\n",
      "stringonestringtwo\n"
     ]
    }
   ],
   "source": [
    "# write a lambd function to print sum of two numbers\n",
    "\n",
    "x = lambda a,b : a+b\n",
    "print(x(1,2))\n",
    "print(x('stringone', 'stringtwo'))"
   ]
  },
  {
   "cell_type": "code",
   "execution_count": 2,
   "id": "41439973",
   "metadata": {},
   "outputs": [
    {
     "name": "stdout",
     "output_type": "stream",
     "text": [
      "3\n"
     ]
    }
   ],
   "source": [
    "def sum(a,b):\n",
    "    print(a+b)\n",
    "    \n",
    "sum(1,2)"
   ]
  },
  {
   "cell_type": "code",
   "execution_count": 1,
   "id": "801a9da0",
   "metadata": {},
   "outputs": [
    {
     "data": {
      "text/plain": [
       "array([0, 1, 2, 3, 4, 5, 6, 7, 8, 9])"
      ]
     },
     "execution_count": 1,
     "metadata": {},
     "output_type": "execute_result"
    }
   ],
   "source": [
    "import numpy as np\n",
    "arr=np.arange(0,10)\n",
    "arr"
   ]
  },
  {
   "cell_type": "code",
   "execution_count": 2,
   "id": "1d9b689c",
   "metadata": {},
   "outputs": [
    {
     "data": {
      "text/plain": [
       "array([ 0, -1,  2, -1,  4, -1,  6, -1,  8, -1])"
      ]
     },
     "execution_count": 2,
     "metadata": {},
     "output_type": "execute_result"
    }
   ],
   "source": [
    "arr[arr%2==1]=-1\n",
    "arr"
   ]
  },
  {
   "cell_type": "code",
   "execution_count": 6,
   "id": "abd4c96f",
   "metadata": {},
   "outputs": [
    {
     "name": "stdout",
     "output_type": "stream",
     "text": [
      "13\n"
     ]
    }
   ],
   "source": [
    "a='Ophthalmology'\n",
    "\n",
    "count=0\n",
    "\n",
    "for i in a:\n",
    "    count=count+1\n",
    "    \n",
    "print(count)"
   ]
  },
  {
   "cell_type": "code",
   "execution_count": 5,
   "id": "bf8ed8a2",
   "metadata": {},
   "outputs": [
    {
     "name": "stdout",
     "output_type": "stream",
     "text": [
      "12\n"
     ]
    }
   ],
   "source": [
    "# write a lamba function to print sum of the numbers\n",
    "x=lambda a,b,c : a+b+c\n",
    "print(x(3,4,5))"
   ]
  },
  {
   "cell_type": "code",
   "execution_count": 9,
   "id": "0b4e58ee",
   "metadata": {},
   "outputs": [
    {
     "name": "stdout",
     "output_type": "stream",
     "text": [
      "Even\n",
      "Odd\n"
     ]
    }
   ],
   "source": [
    "# write a lamba function to print the numbers is even or odd\n",
    "result = lambda var1: 'Even' if var1%2 == 0 else 'Odd'\n",
    "print(result(40))\n",
    "print(result(403))"
   ]
  },
  {
   "cell_type": "code",
   "execution_count": 12,
   "id": "23c012f3",
   "metadata": {},
   "outputs": [
    {
     "name": "stdout",
     "output_type": "stream",
     "text": [
      "40\n"
     ]
    }
   ],
   "source": [
    "result = lambda var1:var1\n",
    "print(result(40))"
   ]
  },
  {
   "cell_type": "code",
   "execution_count": null,
   "id": "2c7180d8",
   "metadata": {},
   "outputs": [],
   "source": []
  }
 ],
 "metadata": {
  "kernelspec": {
   "display_name": "Python 3 (ipykernel)",
   "language": "python",
   "name": "python3"
  },
  "language_info": {
   "codemirror_mode": {
    "name": "ipython",
    "version": 3
   },
   "file_extension": ".py",
   "mimetype": "text/x-python",
   "name": "python",
   "nbconvert_exporter": "python",
   "pygments_lexer": "ipython3",
   "version": "3.11.5"
  }
 },
 "nbformat": 4,
 "nbformat_minor": 5
}
