{
 "cells": [
  {
   "cell_type": "code",
   "execution_count": 1,
   "id": "cf398b2c",
   "metadata": {},
   "outputs": [
    {
     "name": "stdout",
     "output_type": "stream",
     "text": [
      "<class 'str'>\n",
      "<class 'int'>\n",
      "<class 'int'>\n",
      "<class 'int'>\n"
     ]
    }
   ],
   "source": [
    "item1 = 'Phone'\n",
    "item1_price = 100\n",
    "item1_quantity = 5\n",
    "item1_price_total = item1_price * item1_quantity\n",
    "\n",
    "print(type(item1))  # str\n",
    "print(type(item1_price)) #int\n",
    "print(type(item1_quantity)) # int\n",
    "print(type(item1_price_total)) # int\n",
    "\n",
    "\n",
    "# they dont contain relationship  btw them"
   ]
  },
  {
   "cell_type": "code",
   "execution_count": 5,
   "id": "5ab6cb92",
   "metadata": {},
   "outputs": [
    {
     "name": "stdout",
     "output_type": "stream",
     "text": [
      "<class '__main__.Item'>\n",
      "<class 'str'>\n",
      "<class 'int'>\n",
      "<class 'int'>\n"
     ]
    }
   ],
   "source": [
    "class Item:\n",
    "    pass\n",
    "\n",
    "\n",
    "item1 = Item()\n",
    "item1.name = 'Phone'\n",
    "item1.price = 100\n",
    "item1.quantity = 5\n",
    "\n",
    "print(type(item1)) #item\n",
    "print(type(item1.name)) #str\n",
    "print(type(item1.price)) # int\n",
    "print(type(item1.quantity)) #int\n",
    "\n",
    "# they contain relationship  btw them\n"
   ]
  },
  {
   "cell_type": "code",
   "execution_count": 10,
   "id": "649d3158",
   "metadata": {},
   "outputs": [
    {
     "name": "stdout",
     "output_type": "stream",
     "text": [
      "500\n",
      "3000\n"
     ]
    }
   ],
   "source": [
    "class Item:\n",
    "    def calculate_total_price(self, x, y):\n",
    "        return x * y\n",
    "\n",
    "item1 = Item()\n",
    "item1.name = 'Phone'\n",
    "item1.price = 100\n",
    "item1.quantity = 5\n",
    "print(item1.calculate_total_price(item1.price ,item1.quantity))\n",
    "\n",
    "item2 = Item()\n",
    "item2.name = 'Laptop'\n",
    "item2.price = 1000\n",
    "item2.quantity = 3\n",
    "print(item2.calculate_total_price(item2.price ,item2.quantity))"
   ]
  },
  {
   "cell_type": "code",
   "execution_count": 18,
   "id": "51a4e44f",
   "metadata": {},
   "outputs": [
    {
     "name": "stdout",
     "output_type": "stream",
     "text": [
      "Phone\n",
      "Laptop\n",
      "100\n",
      "1000\n",
      "5\n",
      "3\n"
     ]
    }
   ],
   "source": [
    "class Item:\n",
    "    def __init__(self, name, price, quantity):\n",
    "        self.name = name\n",
    "        self.price = price\n",
    "        self.quantity = quantity\n",
    "        \n",
    "    def calculate_total_price(self, x, y):\n",
    "        return x * y\n",
    "\n",
    "item1 = Item('Phone', 100, 5)\n",
    "\n",
    "item2 = Item('Laptop', 1000, 3)\n",
    "\n",
    "\n",
    "\n",
    "\n",
    "print(item1.name)\n",
    "print(item2.name)\n",
    "\n",
    "print(item1.price)\n",
    "print(item2.price)\n",
    "\n",
    "print(item1.quantity)\n",
    "print(item2.quantity)\n"
   ]
  },
  {
   "cell_type": "code",
   "execution_count": 20,
   "id": "2dc332c6",
   "metadata": {},
   "outputs": [
    {
     "name": "stdout",
     "output_type": "stream",
     "text": [
      "3000\n",
      "500\n"
     ]
    }
   ],
   "source": [
    "class Item:\n",
    "    def __init__(self, name, price, quantity=0):\n",
    "        self.name = name\n",
    "        self.price = price\n",
    "        self.quantity = quantity\n",
    " # work on methos self function       \n",
    "    def calculate_total_price(self):\n",
    "        return self.price * self.quantity \n",
    "\n",
    "item1 = Item('Phone', 100, 5)\n",
    "\n",
    "item2 = Item('Laptop', 1000, 3)\n",
    "\n",
    "print(item2.calculate_total_price())\n",
    "print(item1.calculate_total_price())\n"
   ]
  },
  {
   "cell_type": "code",
   "execution_count": 21,
   "id": "54616e49",
   "metadata": {},
   "outputs": [
    {
     "name": "stdout",
     "output_type": "stream",
     "text": [
      "100010001000\n",
      "100100100100100\n"
     ]
    }
   ],
   "source": [
    "class Item:\n",
    "    def __init__(self, name, price, quantity=0):\n",
    "        self.name = name\n",
    "        self.price = price\n",
    "        self.quantity = quantity\n",
    " # work on methos self function       \n",
    "    def calculate_total_price(self):\n",
    "        return self.price * self.quantity \n",
    "# if we put them as str\n",
    "item1 = Item('Phone', '100', 5)\n",
    "\n",
    "item2 = Item('Laptop', '1000', 3)\n",
    "\n",
    "print(item2.calculate_total_price())\n",
    "print(item1.calculate_total_price())"
   ]
  },
  {
   "cell_type": "code",
   "execution_count": 23,
   "id": "7b703529",
   "metadata": {},
   "outputs": [
    {
     "ename": "AssertionError",
     "evalue": "Quantity -5 is not greater than or equal to zero!",
     "output_type": "error",
     "traceback": [
      "\u001b[1;31m---------------------------------------------------------------------------\u001b[0m",
      "\u001b[1;31mAssertionError\u001b[0m                            Traceback (most recent call last)",
      "Cell \u001b[1;32mIn[23], line 15\u001b[0m\n\u001b[0;32m     12\u001b[0m     \u001b[38;5;28;01mdef\u001b[39;00m \u001b[38;5;21mcalculate_total_price\u001b[39m(\u001b[38;5;28mself\u001b[39m):\n\u001b[0;32m     13\u001b[0m         \u001b[38;5;28;01mreturn\u001b[39;00m \u001b[38;5;28mself\u001b[39m\u001b[38;5;241m.\u001b[39mprice \u001b[38;5;241m*\u001b[39m \u001b[38;5;28mself\u001b[39m\u001b[38;5;241m.\u001b[39mquantity \n\u001b[1;32m---> 15\u001b[0m item1 \u001b[38;5;241m=\u001b[39m Item(\u001b[38;5;124m'\u001b[39m\u001b[38;5;124mPhone\u001b[39m\u001b[38;5;124m'\u001b[39m, \u001b[38;5;241m100\u001b[39m, \u001b[38;5;241m-\u001b[39m\u001b[38;5;241m5\u001b[39m)\n\u001b[0;32m     17\u001b[0m item2 \u001b[38;5;241m=\u001b[39m Item(\u001b[38;5;124m'\u001b[39m\u001b[38;5;124mLaptop\u001b[39m\u001b[38;5;124m'\u001b[39m, \u001b[38;5;241m1000\u001b[39m, \u001b[38;5;241m-\u001b[39m\u001b[38;5;241m3\u001b[39m)\n\u001b[0;32m     19\u001b[0m \u001b[38;5;28mprint\u001b[39m(item2\u001b[38;5;241m.\u001b[39mcalculate_total_price())\n",
      "Cell \u001b[1;32mIn[23], line 5\u001b[0m, in \u001b[0;36mItem.__init__\u001b[1;34m(self, name, price, quantity)\u001b[0m\n\u001b[0;32m      2\u001b[0m \u001b[38;5;28;01mdef\u001b[39;00m \u001b[38;5;21m__init__\u001b[39m(\u001b[38;5;28mself\u001b[39m, name, price, quantity\u001b[38;5;241m=\u001b[39m\u001b[38;5;241m0\u001b[39m):\n\u001b[0;32m      3\u001b[0m     \u001b[38;5;66;03m# run valdiation to the recevied argument\u001b[39;00m\n\u001b[0;32m      4\u001b[0m     \u001b[38;5;28;01massert\u001b[39;00m price \u001b[38;5;241m>\u001b[39m\u001b[38;5;241m=\u001b[39m \u001b[38;5;241m0\u001b[39m,  \u001b[38;5;124mf\u001b[39m\u001b[38;5;124m\"\u001b[39m\u001b[38;5;124mPrice \u001b[39m\u001b[38;5;132;01m{\u001b[39;00mprice\u001b[38;5;132;01m}\u001b[39;00m\u001b[38;5;124m is not greater than or equal to zero!\u001b[39m\u001b[38;5;124m\"\u001b[39m\n\u001b[1;32m----> 5\u001b[0m     \u001b[38;5;28;01massert\u001b[39;00m quantity \u001b[38;5;241m>\u001b[39m\u001b[38;5;241m=\u001b[39m \u001b[38;5;241m0\u001b[39m, \u001b[38;5;124mf\u001b[39m\u001b[38;5;124m\"\u001b[39m\u001b[38;5;124mQuantity \u001b[39m\u001b[38;5;132;01m{\u001b[39;00mquantity\u001b[38;5;132;01m}\u001b[39;00m\u001b[38;5;124m is not greater than or equal to zero!\u001b[39m\u001b[38;5;124m\"\u001b[39m\n\u001b[0;32m      6\u001b[0m     \u001b[38;5;66;03m# assign to self object\u001b[39;00m\n\u001b[0;32m      8\u001b[0m     \u001b[38;5;28mself\u001b[39m\u001b[38;5;241m.\u001b[39mname \u001b[38;5;241m=\u001b[39m name\n",
      "\u001b[1;31mAssertionError\u001b[0m: Quantity -5 is not greater than or equal to zero!"
     ]
    }
   ],
   "source": [
    "class Item:\n",
    "    def __init__(self, name, price, quantity=0):\n",
    "        # run valdiation to the recevied argument\n",
    "        assert price >= 0,  f\"Price {price} is not greater than or equal to zero!\"\n",
    "        assert quantity >= 0, f\"Quantity {quantity} is not greater than or equal to zero!\"\n",
    "        # assign to self object\n",
    "        \n",
    "        self.name = name\n",
    "        self.price = price\n",
    "        self.quantity = quantity\n",
    " # work on methos self function       \n",
    "    def calculate_total_price(self):\n",
    "        return self.price * self.quantity \n",
    "\n",
    "item1 = Item('Phone', 100, -5)\n",
    "\n",
    "item2 = Item('Laptop', 1000, -3)\n",
    "\n",
    "print(item2.calculate_total_price())\n",
    "print(item1.calculate_total_price())\n",
    "\n",
    "# show assertion error"
   ]
  },
  {
   "cell_type": "code",
   "execution_count": 25,
   "id": "ccae0d24",
   "metadata": {},
   "outputs": [
    {
     "name": "stdout",
     "output_type": "stream",
     "text": [
      "0.8\n",
      "0.8\n",
      "0.8\n"
     ]
    }
   ],
   "source": [
    "class Item:\n",
    "    pay_rate = 0.8 # the pay rate after 20% discount\n",
    "    def __init__(self, name, price, quantity=0):\n",
    "        # run valdiation to the recevied argument\n",
    "        assert price >= 0,  f\"Price {price} is not greater than or equal to zero!\"\n",
    "        assert quantity >= 0, f\"Quantity {quantity} is not greater than or equal to zero!\"\n",
    "        # assign to self object\n",
    "        \n",
    "        self.name = name\n",
    "        self.price = price\n",
    "        self.quantity = quantity\n",
    " # work on methos self function       \n",
    "    def calculate_total_price(self):\n",
    "        return self.price * self.quantity \n",
    "\n",
    "item1 = Item('Phone', 100, 5)\n",
    "\n",
    "item2 = Item('Laptop', 1000, 3)\n",
    "\n",
    "print(Item.pay_rate)\n",
    "print(item1.pay_rate)\n",
    "print(item2.pay_rate)"
   ]
  },
  {
   "cell_type": "code",
   "execution_count": 26,
   "id": "2877d63e",
   "metadata": {},
   "outputs": [
    {
     "name": "stdout",
     "output_type": "stream",
     "text": [
      "{'__module__': '__main__', 'pay_rate': 0.8, '__init__': <function Item.__init__ at 0x000002ACAD9AB600>, 'calculate_total_price': <function Item.calculate_total_price at 0x000002ACAD9AB240>, '__dict__': <attribute '__dict__' of 'Item' objects>, '__weakref__': <attribute '__weakref__' of 'Item' objects>, '__doc__': None}\n",
      "{'name': 'Phone', 'price': 100, 'quantity': 5}\n"
     ]
    }
   ],
   "source": [
    "class Item:\n",
    "    pay_rate = 0.8 # the pay rate after 20% discount\n",
    "    def __init__(self, name, price, quantity=0):\n",
    "        # run valdiation to the recevied argument\n",
    "        assert price >= 0,  f\"Price {price} is not greater than or equal to zero!\"\n",
    "        assert quantity >= 0, f\"Quantity {quantity} is not greater than or equal to zero!\"\n",
    "        # assign to self object\n",
    "        \n",
    "        self.name = name\n",
    "        self.price = price\n",
    "        self.quantity = quantity\n",
    " # work on methos self function       \n",
    "    def calculate_total_price(self):\n",
    "        return self.price * self.quantity \n",
    "\n",
    "item1 = Item('Phone', 100, 5)\n",
    "\n",
    "item2 = Item('Laptop', 1000, 3)\n",
    "\n",
    "print(Item.__dict__)  # All the attribute for class level\n",
    "print(item1.__dict__) # All the attribute for instance level"
   ]
  },
  {
   "cell_type": "code",
   "execution_count": 35,
   "id": "336e5312",
   "metadata": {},
   "outputs": [
    {
     "name": "stdout",
     "output_type": "stream",
     "text": [
      "80.0\n",
      "700.0\n"
     ]
    }
   ],
   "source": [
    "class Item:\n",
    "    pay_rate = 0.8 # the pay rate after 20% discount\n",
    "    def __init__(self, name, price, quantity=0):\n",
    "        # run valdiation to the recevied argument\n",
    "        assert price >= 0,  f\"Price {price} is not greater than or equal to zero!\"\n",
    "        assert quantity >= 0, f\"Quantity {quantity} is not greater than or equal to zero!\"\n",
    "        # assign to self object\n",
    "        \n",
    "        self.name = name\n",
    "        self.price = price\n",
    "        self.quantity = quantity\n",
    " # work on methos self function       \n",
    "    def calculate_total_price(self):\n",
    "        return self.price * self.quantity \n",
    "    \n",
    "    def apply_discount(self):\n",
    "        self.price = self.price * self.pay_rate  # make self to dis 70%\n",
    "\n",
    "item1 = Item('Phone', 100, 5)\n",
    "item1.apply_discount()\n",
    "print(item1.price)\n",
    "\n",
    "# other direct way by attribute\n",
    "item2 = Item('laptop', 1000, 4)\n",
    "item2.pay_rate = 0.7\n",
    "item2.apply_discount()\n",
    "print(item2.price)"
   ]
  },
  {
   "cell_type": "code",
   "execution_count": 39,
   "id": "c2a6fabb",
   "metadata": {},
   "outputs": [
    {
     "name": "stdout",
     "output_type": "stream",
     "text": [
      "Phone\n",
      "Laptop\n",
      "Cable\n",
      "Mouse\n",
      "KEyboard\n"
     ]
    }
   ],
   "source": [
    "class Item:\n",
    "    pay_rate = 0.8 # the pay rate after 20% discount\n",
    "    all = []\n",
    "    def __init__(self, name, price, quantity=0):\n",
    "        # run valdiation to the recevied argument\n",
    "        assert price >= 0,  f\"Price {price} is not greater than or equal to zero!\"\n",
    "        assert quantity >= 0, f\"Quantity {quantity} is not greater than or equal to zero!\"\n",
    "        # assign to self object\n",
    "        \n",
    "        self.name = name\n",
    "        self.price = price\n",
    "        self.quantity = quantity\n",
    "        \n",
    "        # Action to execute\n",
    "        Item.all.append(self)\n",
    "        \n",
    " # work on methos self function       \n",
    "    def calculate_total_price(self):\n",
    "        return self.price * self.quantity \n",
    "    \n",
    "    def apply_discount(self):\n",
    "        self.price = self.price * self.pay_rate \n",
    "item1 = Item('Phone', 100, 1)\n",
    "item2 = Item('Laptop', 1000, 3)\n",
    "item3 = Item('Cable', 10, 5)\n",
    "item4 = Item('Mouse', 50, 5)\n",
    "item5 = Item('KEyboard', 75, 5)\n",
    "\n",
    "#print(item.all)\n",
    "for instance in Item.all:\n",
    "    print(instance.name)"
   ]
  },
  {
   "cell_type": "code",
   "execution_count": 43,
   "id": "a5f57829",
   "metadata": {},
   "outputs": [
    {
     "name": "stdout",
     "output_type": "stream",
     "text": [
      "[Item('Phone', 100, 1), Item('Laptop', 1000, 3), Item('Cable', 10, 5), Item('Mouse', 50, 5), Item('KEyboard', 75, 5)]\n"
     ]
    }
   ],
   "source": [
    "class Item:\n",
    "    pay_rate = 0.8 # the pay rate after 20% discount\n",
    "    all = []\n",
    "    def __init__(self, name, price, quantity=0):\n",
    "        # run valdiation to the recevied argument\n",
    "        assert price >= 0,  f\"Price {price} is not greater than or equal to zero!\"\n",
    "        assert quantity >= 0, f\"Quantity {quantity} is not greater than or equal to zero!\"\n",
    "        # assign to self object\n",
    "        \n",
    "        self.name = name\n",
    "        self.price = price\n",
    "        self.quantity = quantity\n",
    "        \n",
    "        # Action to execute\n",
    "        Item.all.append(self)\n",
    "        \n",
    " # work on methos self function       \n",
    "    def calculate_total_price(self):\n",
    "        return self.price * self.quantity \n",
    "    \n",
    "    def apply_discount(self):\n",
    "        self.price = self.price * self.pay_rate \n",
    "        \n",
    "        \n",
    "    def __repr__(self):\n",
    "        return f\"Item('{self.name}', {self.price}, {self.quantity})\"\n",
    "    \n",
    "    \n",
    "item1 = Item('Phone', 100, 1)\n",
    "item2 = Item('Laptop', 1000, 3)\n",
    "item3 = Item('Cable', 10, 5)\n",
    "item4 = Item('Mouse', 50, 5)\n",
    "item5 = Item('Keyboard', 75, 5)\n",
    "\n",
    "print(Item.all)\n",
    "#for instance in Item.all:\n",
    "    #print(instance.name)"
   ]
  },
  {
   "cell_type": "code",
   "execution_count": 6,
   "id": "d1b7f4e4",
   "metadata": {},
   "outputs": [
    {
     "name": "stdout",
     "output_type": "stream",
     "text": [
      "hp au114tx\n"
     ]
    }
   ],
   "source": [
    "class Laptop:\n",
    "    def __init__(self, brand, name, price):\n",
    "        \n",
    "        #instance variables\n",
    "        self.brand = brand\n",
    "        self.name = name\n",
    "        self.price = price\n",
    "        self.laptop_name = brand + ' ' +name\n",
    "        \n",
    "laptop1 = Laptop('hp', 'au114tx', 63000)\n",
    "print(laptop1.laptop_name)\n",
    "        "
   ]
  },
  {
   "cell_type": "code",
   "execution_count": 16,
   "id": "0b87cc25",
   "metadata": {},
   "outputs": [
    {
     "name": "stdout",
     "output_type": "stream",
     "text": [
      "{'brand': 'apple', 'name': 'mackbook pro', 'price': 230000, 'laptop_name': 'apple mackbook pro', 'doscount_percent': 50}\n",
      "207000.0\n"
     ]
    }
   ],
   "source": [
    "class Laptop:\n",
    "    discount_percent = 10\n",
    "    def __init__(self, brand, name, price):\n",
    "        \n",
    "        #instance variables\n",
    "        self.brand = brand\n",
    "        self.name = name\n",
    "        self.price = price\n",
    "        self.laptop_name = brand + ' ' +name\n",
    "        \n",
    "    def apply_discount(self):\n",
    "        #self price\n",
    "        off_price = (self.discount_percent/100)*self.price\n",
    "        return self.price - off_price\n",
    "    \n",
    "#Laptop.discount_percent = 100\n",
    "laptop1 = Laptop('hp', 'au114tx', 63000)\n",
    "laptop2 = Laptop('apple', 'mackbook pro', 230000)\n",
    "laptop2.doscount_percent = 50\n",
    "print(laptop2.__dict__)\n",
    "print(laptop2.apply_discount())"
   ]
  },
  {
   "cell_type": "code",
   "execution_count": 12,
   "id": "ab436477",
   "metadata": {},
   "outputs": [
    {
     "name": "stdout",
     "output_type": "stream",
     "text": [
      "25.12\n",
      "31.400000000000002\n"
     ]
    }
   ],
   "source": [
    "#1st \n",
    "class Circle:\n",
    "    \n",
    "    def __init__(self, radius, pi):\n",
    "        self.radius = radius\n",
    "        self.pi = pi\n",
    "        \n",
    "    def calc_circumference(self):\n",
    "        return 2*self.pi*self.radius\n",
    "    \n",
    "c = Circle(4,3.14)\n",
    "c1 = Circle(5,3.14)\n",
    "\n",
    "print(c.calc_circumference())\n",
    "\n",
    "print(c1.calc_circumference())"
   ]
  },
  {
   "cell_type": "code",
   "execution_count": 14,
   "id": "c42a5bf9",
   "metadata": {},
   "outputs": [
    {
     "name": "stdout",
     "output_type": "stream",
     "text": [
      "25.12\n",
      "31.400000000000002\n"
     ]
    }
   ],
   "source": [
    "class Circle:\n",
    "    pi = 3.14\n",
    "    def __init__(self, radius):\n",
    "        self.radius = radius\n",
    "        \n",
    "        \n",
    "    def calc_circumference(self):\n",
    "        return 2*self.pi*self.radius\n",
    "    \n",
    "c = Circle(4)\n",
    "c1 = Circle(5)\n",
    "\n",
    "print(c.calc_circumference())\n",
    "\n",
    "print(c1.calc_circumference())"
   ]
  },
  {
   "cell_type": "code",
   "execution_count": 21,
   "id": "fcd30db3",
   "metadata": {},
   "outputs": [
    {
     "name": "stdout",
     "output_type": "stream",
     "text": [
      "207000.0\n",
      "56700.0\n"
     ]
    }
   ],
   "source": [
    "# using class variable\n",
    "class Laptop:\n",
    "    discount_percent = 10\n",
    "    def __init__(self, brand, name, price):\n",
    "        #instance variables\n",
    "        self.brand = brand\n",
    "        self.name = name\n",
    "        self.price = price\n",
    "        self.laptop_name = brand + ' ' +name\n",
    "        \n",
    "    def apply_discount(self):\n",
    "        #self price\n",
    "        off_price = (Laptop.discount_percent/100)*self.price\n",
    "        return self.price - off_price\n",
    "    \n",
    "#Laptop.discount_percent = 100\n",
    "laptop1 = Laptop('hp', 'au114tx', 63000)\n",
    "laptop2 = Laptop('apple', 'mackbook pro', 230000)\n",
    "#laptop2.doscount_percent = 50\n",
    "#print(laptop2.__dict__)\n",
    "print(laptop2.apply_discount())\n",
    "print(laptop1.apply_discount())"
   ]
  },
  {
   "cell_type": "code",
   "execution_count": 1,
   "id": "55b1adb0",
   "metadata": {},
   "outputs": [
    {
     "name": "stdout",
     "output_type": "stream",
     "text": [
      "207000.0\n",
      "56700.0\n"
     ]
    }
   ],
   "source": [
    "# to make diff discount to diff laptop\n",
    "# using class variable\n",
    "class Laptop:\n",
    "    discount_percent = 10\n",
    "    def __init__(self, brand, name, price):\n",
    "        #instance variables\n",
    "        self.brand = brand\n",
    "        self.name = name\n",
    "        self.price = price\n",
    "        self.laptop_name = brand + ' ' +name\n",
    "        \n",
    "    def apply_discount(self):\n",
    "        #self price\n",
    "        off_price = (Laptop.discount_percent/100)*self.price\n",
    "        return self.price - off_price\n",
    "    \n",
    "# Laptop.discount_percent = 0 (to make discount zero)\n",
    "laptop1 = Laptop('hp', 'au114tx', 63000)\n",
    "laptop2 = Laptop('apple', 'mackbook pro', 230000)\n",
    "#laptop2.doscount_percent = 50\n",
    "#print(laptop2.__dict__)\n",
    "print(laptop2.apply_discount())\n",
    "print(laptop1.apply_discount())\n"
   ]
  },
  {
   "cell_type": "code",
   "execution_count": 10,
   "id": "660f701e",
   "metadata": {},
   "outputs": [
    {
     "name": "stdout",
     "output_type": "stream",
     "text": [
      "You have created 2 instances of Person class\n",
      "You have created 2 instances of Person class\n"
     ]
    }
   ],
   "source": [
    "# class method\n",
    "# difference between class method and instance method\n",
    "\n",
    "class Person:\n",
    "    count_instance = 0   # class variable /  class attribute\n",
    "    def __init__(self,first_name, last_name, age):\n",
    "          Person.count_instance += 1\n",
    "          self.first_name = first_name\n",
    "          self.last_name = last_name\n",
    "          self.age = age\n",
    "        \n",
    "    @classmethod\n",
    "    def count_instances(cls):\n",
    "        return f\"You have created {cls.count_instance} instances of {cls.__name__} class\"\n",
    "        \n",
    "    def full_name(self):\n",
    "        return f\"{self.first_name} {self.last_name}\"\n",
    "    \n",
    "    def is_above_18(self):\n",
    "        return self.age>18\n",
    "\n",
    "    \n",
    "p1 = Person('Harshita', 'Vanshita',10)\n",
    "p2 = Person('Harsh', 'Vanshita',20)\n",
    "print(Person.count_instances())\n",
    "print(p2.count_instances())  # to call by using object\n"
   ]
  },
  {
   "cell_type": "code",
   "execution_count": 11,
   "id": "1bb57e02",
   "metadata": {},
   "outputs": [
    {
     "data": {
      "text/plain": [
       "3"
      ]
     },
     "execution_count": 11,
     "metadata": {},
     "output_type": "execute_result"
    }
   ],
   "source": [
    "# instance methods\n",
    "\n",
    "l = [1,2,3]\n",
    "l.pop()"
   ]
  },
  {
   "cell_type": "code",
   "execution_count": 16,
   "id": "3af721ae",
   "metadata": {},
   "outputs": [
    {
     "name": "stdout",
     "output_type": "stream",
     "text": [
      "Harshit Vanshita\n",
      "Harshita Vanna\n",
      "Harshita Vanna\n",
      "Harshit Vanshita\n"
     ]
    }
   ],
   "source": [
    "# now use multiple methods in class using instance method\n",
    "\n",
    "class Person:\n",
    "    def __init__(self,first_name, last_name, age):\n",
    "        self.first_name = first_name\n",
    "        self.last_name = last_name\n",
    "        self.age = age\n",
    "        \n",
    "   \n",
    "    def full_name(self):\n",
    "        return f\"{self.first_name} {self.last_name}\"\n",
    "    \n",
    "    def is_above_18(self):\n",
    "        return self.age>18\n",
    "\n",
    "        \n",
    "p1 = Person('Harshit', 'Vanshita', 24)\n",
    "p2 = Person('Harshita', 'Vanna', 14)\n",
    "print(p1.full_name())\n",
    "print(p2.full_name())\n",
    "\n",
    "print(Person.full_name(p2))\n",
    "print(Person.full_name(p1))"
   ]
  },
  {
   "cell_type": "code",
   "execution_count": 25,
   "id": "4b5c62d7",
   "metadata": {},
   "outputs": [
    {
     "name": "stdout",
     "output_type": "stream",
     "text": [
      "100000\n",
      "{'modelname': 'City', 'yearm': 2017, 'price': 100000, 'cc': 1500}\n",
      "{'modelname': 'Bolt', 'yearm': 2016, 'price': 600000}\n",
      "114999.99999999999\n"
     ]
    }
   ],
   "source": [
    "class Car():\n",
    "    def __init__(self, modelname, yearm, price):\n",
    "        self.modelname = modelname\n",
    "        self.yearm = yearm\n",
    "        self.price = price\n",
    "        \n",
    "    def price_inc(self):\n",
    "        self.price = (self.price*1.15)\n",
    "        \n",
    "honda = Car('City', 2017, 100000)\n",
    "tata = Car('Bolt', 2016, 600000)\n",
    "\n",
    "#honda.model_name = 'City'\n",
    "#honda.yearm = 2017\n",
    "#honda.price = 1000000\n",
    "\n",
    "#honda.model_name = 'Bolt'\n",
    "#honda.yearm = 2016\n",
    "#honda.price = 600000\n",
    "\n",
    "honda.cc=1500\n",
    "\n",
    "print(honda.price)\n",
    "\n",
    "print(honda.__dict__)\n",
    "# diff of cc\n",
    "print(tata.__dict__)\n",
    "\n",
    "honda.price_inc()\n",
    "print(honda.price)\n"
   ]
  },
  {
   "cell_type": "code",
   "execution_count": 29,
   "id": "f34c1388",
   "metadata": {},
   "outputs": [
    {
     "name": "stdout",
     "output_type": "stream",
     "text": [
      "Help on Car in module __main__ object:\n",
      "\n",
      "class Car(builtins.object)\n",
      " |  Car(modelname, yearm, price)\n",
      " |  \n",
      " |  Methods defined here:\n",
      " |  \n",
      " |  __init__(self, modelname, yearm, price)\n",
      " |      Initialize self.  See help(type(self)) for accurate signature.\n",
      " |  \n",
      " |  price_inc(self)\n",
      " |  \n",
      " |  ----------------------------------------------------------------------\n",
      " |  Data descriptors defined here:\n",
      " |  \n",
      " |  __dict__\n",
      " |      dictionary for instance variables (if defined)\n",
      " |  \n",
      " |  __weakref__\n",
      " |      list of weak references to the object (if defined)\n",
      "\n",
      "None\n",
      "114999.99999999999\n"
     ]
    }
   ],
   "source": [
    "#parent n child class\n",
    "\n",
    "class Car():\n",
    "    def __init__(self, modelname, yearm, price):\n",
    "        self.modelname = modelname\n",
    "        self.yearm = yearm\n",
    "        self.price = price\n",
    "        \n",
    "    def price_inc(self):\n",
    "        self.price = (self.price*1.15)\n",
    "        \n",
    "\n",
    "class SuperCar(Car):\n",
    "    def __init__(self, modelname, yearm, price, cc):\n",
    "        super.__init__(modelname, yearm, price)\n",
    "        self.cc = cc\n",
    "\n",
    "\n",
    "honda = Car('City', 2017, 100000)\n",
    "tata = Car('Bolt', 2016, 600000)\n",
    "\n",
    "honda.cc=1500\n",
    "\n",
    "print(help(honda))\n",
    "\n",
    "honda.price_inc()\n",
    "print(honda.price)\n"
   ]
  },
  {
   "cell_type": "code",
   "execution_count": 34,
   "id": "60750bb5",
   "metadata": {},
   "outputs": [
    {
     "ename": "SyntaxError",
     "evalue": "invalid syntax (1267667387.py, line 3)",
     "output_type": "error",
     "traceback": [
      "\u001b[1;36m  Cell \u001b[1;32mIn[34], line 3\u001b[1;36m\u001b[0m\n\u001b[1;33m    for abc import ABC, abstractmethod\u001b[0m\n\u001b[1;37m            ^\u001b[0m\n\u001b[1;31mSyntaxError\u001b[0m\u001b[1;31m:\u001b[0m invalid syntax\n"
     ]
    }
   ],
   "source": [
    "#Abstract method\n",
    "\n",
    "for abc import ABC, abstractmethod\n",
    "\n",
    "class Car(ABC):\n",
    "    @abstractmethod\n",
    "    def price_inc(self):\n",
    "        pass\n",
    "        \n",
    "\n",
    "class SuperCar(Car):\n",
    "    def __init__(self, modelname, yearm, price, cc):\n",
    "        super.__init__(modelname, yearm, price)\n",
    "        self.cc = cc\n",
    "        \n",
    "    def price_inc(self):\n",
    "        self.price = (self.price*2)\n",
    "\n",
    "honda = Car('City', 2017, 100000)\n",
    "tata = Car('Bolt', 2016, 600000)\n",
    "\n",
    "honda.cc=1500\n",
    "\n",
    "print(help(honda))\n",
    "\n",
    "honda.price_inc()\n",
    "print(honda.price)\n"
   ]
  },
  {
   "cell_type": "code",
   "execution_count": null,
   "id": "35d39421",
   "metadata": {},
   "outputs": [],
   "source": []
  }
 ],
 "metadata": {
  "kernelspec": {
   "display_name": "Python 3 (ipykernel)",
   "language": "python",
   "name": "python3"
  },
  "language_info": {
   "codemirror_mode": {
    "name": "ipython",
    "version": 3
   },
   "file_extension": ".py",
   "mimetype": "text/x-python",
   "name": "python",
   "nbconvert_exporter": "python",
   "pygments_lexer": "ipython3",
   "version": "3.11.5"
  }
 },
 "nbformat": 4,
 "nbformat_minor": 5
}
