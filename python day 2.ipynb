{
 "cells": [
  {
   "cell_type": "code",
   "execution_count": 1,
   "id": "52d78946",
   "metadata": {},
   "outputs": [],
   "source": [
    "# All Data types in python\n",
    "# numeric : int, float, complex\n",
    "#sequence : list, tuple, dict ,set\n",
    "#boolean : true/false\n",
    "# text : string\n"
   ]
  },
  {
   "cell_type": "code",
   "execution_count": 4,
   "id": "d46fd44a",
   "metadata": {},
   "outputs": [
    {
     "name": "stdout",
     "output_type": "stream",
     "text": [
      "Vrinda\n",
      "<class 'str'>\n",
      "V\n",
      "i\n",
      "i\n"
     ]
    }
   ],
   "source": [
    "# text : str\n",
    "\n",
    "# V  R  I  N  D  A     I  S\n",
    "# 0  1  2  3  4  5  6  7  8  - forward indexing\n",
    "#-9 -8 -7 -6 -5 -4 -3 -2 -1  - reverse indexing\n",
    "\n",
    "#  1  2  3  -string\n",
    "#  0  1  2  - f index\n",
    "# -3 -2 -1  - r index\n",
    "\n",
    "\n",
    "name ='Vrinda'            # V  R  I  N  D  A  \n",
    "                          # 0  1  2  3  4  5   \n",
    "print(name)               #-6 -5 -4 -3 -2 -1\n",
    "print(type(name))\n",
    "\n",
    "print(name[0])\n",
    "print(name[2])\n",
    "print(name[-4])\n",
    "print(name[0])\n",
    "print(name[0])"
   ]
  },
  {
   "cell_type": "code",
   "execution_count": 9,
   "id": "285efddf",
   "metadata": {},
   "outputs": [
    {
     "name": "stdout",
     "output_type": "stream",
     "text": [
      "rin\n",
      "ri\n",
      "rin\n",
      "Vrin\n",
      "Vr\n"
     ]
    }
   ],
   "source": [
    "# slicing\n",
    "\n",
    "print(name[1:4])  # last index never printed (1:3)\n",
    "print(name[1:3])\n",
    "print(name[-5:-2]) #\n",
    "print(name[0:4])\n",
    "\n"
   ]
  },
  {
   "cell_type": "code",
   "execution_count": 18,
   "id": "b8d0e6f2",
   "metadata": {},
   "outputs": [
    {
     "name": "stdout",
     "output_type": "stream",
     "text": [
      "Vrinda\n",
      "Vrinda\n",
      "Vrinda\n",
      "Vrinda\n",
      "Vrinda\n",
      "\n",
      "adnirV\n",
      "rin\n",
      "nir\n"
     ]
    }
   ],
   "source": [
    "#name ='Vrinda'           # V  R  I  N  D  A  \n",
    "                          # 0  1  2  3  4  5   \n",
    "                          #-6 -5 -4 -3 -2 -1\n",
    "\n",
    "\n",
    "# print a sring using indexing\n",
    "print(name)             #- f index\n",
    "print(name[0:6])\n",
    "print(name[0:])\n",
    "print(name[:])\n",
    "\n",
    "\n",
    "print(name[-6:])       #- r index\n",
    "print(name[0:6:-1])\n",
    "\n",
    "\n",
    "print(name[::-1])      # total riverse\n",
    "\n",
    "\n",
    "newstr = name[1:4]     # reverse a particular part\n",
    "print(newstr)\n",
    "print(newstr[::-1])\n",
    "\n"
   ]
  },
  {
   "cell_type": "code",
   "execution_count": 19,
   "id": "d5f978b4",
   "metadata": {},
   "outputs": [
    {
     "name": "stdout",
     "output_type": "stream",
     "text": [
      "ai\n",
      "Vid\n"
     ]
    }
   ],
   "source": [
    "# skipping elements\n",
    "print(name[::-3])  # to skip every 2 element for r.index\n",
    "print(name[::2])   # skip every 1 element for f.index"
   ]
  },
  {
   "cell_type": "code",
   "execution_count": 1,
   "id": "51d838e2",
   "metadata": {},
   "outputs": [
    {
     "name": "stdout",
     "output_type": "stream",
     "text": [
      "ell\n",
      "ell\n"
     ]
    }
   ],
   "source": [
    "string1='Hello'\n",
    "# print ell\n",
    "print(string1[1:4])\n",
    "print(string1[-4:-1])"
   ]
  },
  {
   "cell_type": "code",
   "execution_count": 2,
   "id": "0cb38507",
   "metadata": {},
   "outputs": [],
   "source": [
    "#sequence data type:\n",
    "#        syntax    duplicates    mutablity     order(index)\n",
    "# list      []        yes           yes         ord\n",
    "# tuple     ()        yes           no          ord\n",
    "# set       {}        no            yes        unord\n",
    "# dict     {:}  no key duplicates   yes        ord"
   ]
  },
  {
   "cell_type": "code",
   "execution_count": 13,
   "id": "7f092a9b",
   "metadata": {},
   "outputs": [
    {
     "name": "stdout",
     "output_type": "stream",
     "text": [
      "['Apple', 'Orange', 'Cherry', 34, 45]\n",
      "<class 'list'>\n",
      "Cherry\n",
      "['Apple', 'Orange', 'Cherry', 34, 45]\n",
      "['Apple', 'Orange', 'Cherry', 34, 45]\n",
      "['Cherry', 34]\n"
     ]
    }
   ],
   "source": [
    "# list\n",
    "#              0        1         2        3  4\n",
    "fruitslist = ['Apple', 'Orange', 'Cherry', 34,45]\n",
    "print(fruitslist)\n",
    "print(type(fruitslist))\n",
    "\n",
    "print(fruitslist[2])\n",
    "\n",
    "print(fruitslist[:])\n",
    "print(fruitslist[0:5])\n",
    "print(fruitslist[2:4])"
   ]
  },
  {
   "cell_type": "code",
   "execution_count": 14,
   "id": "9342c48f",
   "metadata": {},
   "outputs": [
    {
     "name": "stdout",
     "output_type": "stream",
     "text": [
      "['Apple', 'Orange', 'Cherry', 34, 45, 'mango', 90]\n",
      "['Apple', 'Orange', 'mongo', 'Cherry', 34, 45, 'mango', 90]\n"
     ]
    }
   ],
   "source": [
    "#append-> inserts element at end of list\n",
    "fruitslist.append('mango')\n",
    "fruitslist.append(90)\n",
    "print(fruitslist)\n",
    "\n",
    "#insert -> insert element at specific index\n",
    "fruitslist.insert(2,'mongo')\n",
    "print(fruitslist)"
   ]
  },
  {
   "cell_type": "code",
   "execution_count": 15,
   "id": "22ee5a33",
   "metadata": {},
   "outputs": [
    {
     "name": "stdout",
     "output_type": "stream",
     "text": [
      "['Apple', 'Orange', 'mongo', 'Cherry', 34, 45, 'mango']\n",
      "['Orange', 'mongo', 'Cherry', 34, 45]\n",
      "['Orange', 'mongo', 'Cherry', 34]\n"
     ]
    }
   ],
   "source": [
    "#pop ->removes element through index\n",
    "fruitslist.pop()\n",
    "print(fruitslist)\n",
    "\n",
    "fruitslist.pop() # when index is not given then it delets the last element\n",
    "fruitslist.pop(0) # remove takes index as insert value\n",
    "print(fruitslist)\n",
    "\n",
    "#remove-> removes the elemet mentioned\n",
    "fruitslist.remove(45)  # remove takes elements as insert value\n",
    "print(fruitslist)\n",
    "\n",
    "#clear, del\n",
    "# fruitslist.clear()\n",
    "# print(fruitslist)\n",
    "\n",
    "# del fruitslist\n",
    "# print(fruitslist)\n"
   ]
  },
  {
   "cell_type": "code",
   "execution_count": 20,
   "id": "99d6445b",
   "metadata": {},
   "outputs": [
    {
     "name": "stdout",
     "output_type": "stream",
     "text": [
      "<class 'tuple'>\n",
      "3\n",
      "(1, 2, 3, 4, 'cherry')\n"
     ]
    }
   ],
   "source": [
    "#tuples:\n",
    "tuple1=(1,2,3,4,'cherry')\n",
    "\n",
    "print(type(tuple1))\n",
    "print(tuple1[2])\n",
    "\n",
    "         #       will give error\n",
    "# tuple1.append('mango')\n",
    "# tuple1.append(90)\n",
    "# print(tuple1)\n"
   ]
  },
  {
   "cell_type": "code",
   "execution_count": 21,
   "id": "7233c384",
   "metadata": {},
   "outputs": [
    {
     "name": "stdout",
     "output_type": "stream",
     "text": [
      "<class 'list'>\n",
      "[1, 2, 3, 4, 'cherry', 'mango', 90]\n",
      "<class 'tuple'>\n"
     ]
    }
   ],
   "source": [
    "#to make changes: type cast it\n",
    "tuple1=list(tuple1)\n",
    "print(type(tuple1))\n",
    "tuple1.append('mango')\n",
    "tuple1.append(90)\n",
    "print(tuple1)\n",
    "\n",
    "#change it back after work is done\n",
    "tuple1=tuple(tuple1)\n",
    "print(type(tuple1))"
   ]
  },
  {
   "cell_type": "code",
   "execution_count": 28,
   "id": "22bab514",
   "metadata": {},
   "outputs": [
    {
     "name": "stdout",
     "output_type": "stream",
     "text": [
      "<class 'set'>\n",
      "{2, 3, 'Apple', 5, 7, 'Cheery'}\n"
     ]
    }
   ],
   "source": [
    "# sets:\n",
    "\n",
    "set1= {3,2,5,7,'Cheery',3,'Apple'}\n",
    "print(type(set1))\n",
    "print(set1)"
   ]
  },
  {
   "cell_type": "code",
   "execution_count": 31,
   "id": "163c525f",
   "metadata": {},
   "outputs": [
    {
     "data": {
      "text/plain": [
       "dict_keys(['Name', 'ID', 44])"
      ]
     },
     "execution_count": 31,
     "metadata": {},
     "output_type": "execute_result"
    }
   ],
   "source": [
    "#dictionary: key value pairs\n",
    "\n",
    "dict1= {'Name':'Vrinda',\n",
    "        'ID':23,\n",
    "        44:345}\n",
    "\n",
    "dict1.keys()\n",
    "\n"
   ]
  },
  {
   "cell_type": "code",
   "execution_count": 32,
   "id": "dab1ebc6",
   "metadata": {},
   "outputs": [
    {
     "name": "stdout",
     "output_type": "stream",
     "text": [
      "{'Name': 'Vrinda', 'ID': 23, 44: 345}\n"
     ]
    }
   ],
   "source": [
    "print(dict1)"
   ]
  },
  {
   "cell_type": "code",
   "execution_count": 33,
   "id": "95e6c3ba",
   "metadata": {},
   "outputs": [
    {
     "data": {
      "text/plain": [
       "dict_values(['Vrinda', 23, 345])"
      ]
     },
     "execution_count": 33,
     "metadata": {},
     "output_type": "execute_result"
    }
   ],
   "source": [
    "dict1.values()"
   ]
  },
  {
   "cell_type": "code",
   "execution_count": 34,
   "id": "43a4e4aa",
   "metadata": {},
   "outputs": [
    {
     "data": {
      "text/plain": [
       "dict_items([('Name', 'Vrinda'), ('ID', 23), (44, 345)])"
      ]
     },
     "execution_count": 34,
     "metadata": {},
     "output_type": "execute_result"
    }
   ],
   "source": [
    "dict1.items()"
   ]
  },
  {
   "cell_type": "code",
   "execution_count": 35,
   "id": "a1cacbee",
   "metadata": {},
   "outputs": [
    {
     "name": "stdout",
     "output_type": "stream",
     "text": [
      "Name :  Vrinda\n",
      "ID :  23\n"
     ]
    }
   ],
   "source": [
    "value1=dict1['Name']\n",
    "value2=dict1['ID']\n",
    "\n",
    "print('Name : ', value1)\n",
    "print('ID : ', value2)"
   ]
  },
  {
   "cell_type": "code",
   "execution_count": 36,
   "id": "3427e990",
   "metadata": {},
   "outputs": [
    {
     "name": "stdout",
     "output_type": "stream",
     "text": [
      "True\n",
      "True\n",
      "True\n",
      "False\n",
      "False\n"
     ]
    }
   ],
   "source": [
    "#boolean: true/false\n",
    "\n",
    "a=10\n",
    "b='number'\n",
    "c=9.0\n",
    "\n",
    "d=''\n",
    "e=0\n",
    "\n",
    "print(bool(a))\n",
    "print(bool(b))\n",
    "print(bool(c))\n",
    "print(bool(d))\n",
    "print(bool(e))\n",
    "\n",
    "# any number which is not empty or 0  --> that is a true no.\n",
    "# any number which is empty or 0  --> that is a false no."
   ]
  },
  {
   "cell_type": "code",
   "execution_count": null,
   "id": "5bac20ed",
   "metadata": {},
   "outputs": [],
   "source": []
  }
 ],
 "metadata": {
  "kernelspec": {
   "display_name": "Python 3 (ipykernel)",
   "language": "python",
   "name": "python3"
  },
  "language_info": {
   "codemirror_mode": {
    "name": "ipython",
    "version": 3
   },
   "file_extension": ".py",
   "mimetype": "text/x-python",
   "name": "python",
   "nbconvert_exporter": "python",
   "pygments_lexer": "ipython3",
   "version": "3.11.5"
  }
 },
 "nbformat": 4,
 "nbformat_minor": 5
}
